{
 "cells": [
  {
   "cell_type": "code",
   "execution_count": 1,
   "metadata": {},
   "outputs": [],
   "source": [
    " # Automatic Ticket Assignment - Capstone Project - Approach2\n",
    "# \n",
    "# ## Problem Statement - \n",
    "# \n",
    "# In most of the IT organizations, the assignment of incidents to appropriate IT groups is still a manual process. Manual assignment of incidents is time consuming and requires human efforts. There may be mistakes due to human errors and resource consumption is carried out ineffectively because of the misaddressing. On the other hand, manual assignment increases the response and resolution times which result in user satisfaction deterioration / poor customer service. \n",
    "# \n",
    "# _<font color=blue>This capstone project intends to reduce the manual intervention of IT operations or Service desk teams by automating the ticket assignment process.The goal here is to create a text classification based ML model that can automatically  classify any new tickets by analysing ticket description to one of the relevant Assignment groups, which could be later integrated to any ITSM tool like Service Now. Based on the ticket description our model will output the probability of assigning it to one of the 74 Groups.</font>_\n",
    "# \n",
    "# The solution would be implemented using below approach:\n",
    "# \n",
    "# In the AS-IS process it's mentioned that around ~54% of the incidents are resolved by L1 / L2 teams and the rest will be resolved as L3. So the assumption is that GRP_0 and GRP_8 which contribute 54% of the tickets are related to L1/L2 teams and the rest of the tickets belongs to L3 teams\n",
    "# \n",
    "# So firstly, the ticket would be classified into L1/L2 or L3 classes and then it would be further classified into one of the given assignment groups. \n"
   ]
  },
  {
   "cell_type": "code",
   "execution_count": 2,
   "metadata": {},
   "outputs": [],
   "source": [
    "import pandas as pd\n",
    "import numpy as np\n",
    "import re\n",
    "import string\n",
    "\n",
    "from sklearn.linear_model import LogisticRegression \n",
    "from sklearn.naive_bayes import MultinomialNB\n",
    "from sklearn.multiclass import OneVsRestClassifier\n",
    "\n",
    "\n",
    "from sklearn.model_selection import cross_val_score\n",
    "\n",
    "from sklearn import metrics\n",
    "from sklearn.metrics import classification_report\n",
    "from sklearn.metrics import confusion_matrix\n",
    "from sklearn.model_selection import GridSearchCV\n",
    "from sklearn.pipeline import make_pipeline\n",
    "\n",
    "import warnings \n",
    "warnings.filterwarnings('ignore')"
   ]
  },
  {
   "cell_type": "code",
   "execution_count": 3,
   "metadata": {},
   "outputs": [
    {
     "data": {
      "text/html": [
       "<div>\n",
       "<style scoped>\n",
       "    .dataframe tbody tr th:only-of-type {\n",
       "        vertical-align: middle;\n",
       "    }\n",
       "\n",
       "    .dataframe tbody tr th {\n",
       "        vertical-align: top;\n",
       "    }\n",
       "\n",
       "    .dataframe thead th {\n",
       "        text-align: right;\n",
       "    }\n",
       "</style>\n",
       "<table border=\"1\" class=\"dataframe\">\n",
       "  <thead>\n",
       "    <tr style=\"text-align: right;\">\n",
       "      <th></th>\n",
       "      <th>Description</th>\n",
       "      <th>Assignment group</th>\n",
       "      <th>cleaned_description</th>\n",
       "      <th>num_wds</th>\n",
       "      <th>avg_word</th>\n",
       "      <th>uniq_wds</th>\n",
       "      <th>token_desc</th>\n",
       "    </tr>\n",
       "  </thead>\n",
       "  <tbody>\n",
       "    <tr>\n",
       "      <th>0</th>\n",
       "      <td>-verified user details.(employee# &amp; manager na...</td>\n",
       "      <td>GRP_0</td>\n",
       "      <td>login issueverified user detailsemployee manag...</td>\n",
       "      <td>18</td>\n",
       "      <td>7.555556</td>\n",
       "      <td>15</td>\n",
       "      <td>login issueverified user detailsemployee manag...</td>\n",
       "    </tr>\n",
       "    <tr>\n",
       "      <th>1</th>\n",
       "      <td>\\r\\n\\r\\nreceived from: hmjdrvpb.komuaywn@gmail...</td>\n",
       "      <td>GRP_0</td>\n",
       "      <td>outlook hmjdrvpbkomuaywn teammy meetingsskype ...</td>\n",
       "      <td>13</td>\n",
       "      <td>7.538462</td>\n",
       "      <td>12</td>\n",
       "      <td>outlook hmjdrvpbkomuaywn teammy meetingsskype ...</td>\n",
       "    </tr>\n",
       "    <tr>\n",
       "      <th>2</th>\n",
       "      <td>\\r\\n\\r\\nreceived from: eylqgodm.ybqkwiam@gmail...</td>\n",
       "      <td>GRP_0</td>\n",
       "      <td>cant log vpn eylqgodmybqkwiami cannot log vpn</td>\n",
       "      <td>7</td>\n",
       "      <td>5.571429</td>\n",
       "      <td>5</td>\n",
       "      <td>cant log vpn eylqgodmybqkwiami cannot log vpn</td>\n",
       "    </tr>\n",
       "    <tr>\n",
       "      <th>3</th>\n",
       "      <td>unable to access hr_tool page</td>\n",
       "      <td>GRP_0</td>\n",
       "      <td>unable access hrtool pageunable access hrtool ...</td>\n",
       "      <td>7</td>\n",
       "      <td>6.285714</td>\n",
       "      <td>5</td>\n",
       "      <td>unable access hrtool pageunable access hrtool ...</td>\n",
       "    </tr>\n",
       "    <tr>\n",
       "      <th>4</th>\n",
       "      <td>skype error</td>\n",
       "      <td>GRP_0</td>\n",
       "      <td>skype error skype error</td>\n",
       "      <td>4</td>\n",
       "      <td>5.000000</td>\n",
       "      <td>2</td>\n",
       "      <td>skype error skype error</td>\n",
       "    </tr>\n",
       "  </tbody>\n",
       "</table>\n",
       "</div>"
      ],
      "text/plain": [
       "                                         Description Assignment group  \\\n",
       "0  -verified user details.(employee# & manager na...            GRP_0   \n",
       "1  \\r\\n\\r\\nreceived from: hmjdrvpb.komuaywn@gmail...            GRP_0   \n",
       "2  \\r\\n\\r\\nreceived from: eylqgodm.ybqkwiam@gmail...            GRP_0   \n",
       "3                      unable to access hr_tool page            GRP_0   \n",
       "4                                       skype error             GRP_0   \n",
       "\n",
       "                                 cleaned_description  num_wds  avg_word  \\\n",
       "0  login issueverified user detailsemployee manag...       18  7.555556   \n",
       "1  outlook hmjdrvpbkomuaywn teammy meetingsskype ...       13  7.538462   \n",
       "2      cant log vpn eylqgodmybqkwiami cannot log vpn        7  5.571429   \n",
       "3  unable access hrtool pageunable access hrtool ...        7  6.285714   \n",
       "4                            skype error skype error        4  5.000000   \n",
       "\n",
       "   uniq_wds                                         token_desc  \n",
       "0        15  login issueverified user detailsemployee manag...  \n",
       "1        12  outlook hmjdrvpbkomuaywn teammy meetingsskype ...  \n",
       "2         5      cant log vpn eylqgodmybqkwiami cannot log vpn  \n",
       "3         5  unable access hrtool pageunable access hrtool ...  \n",
       "4         2                            skype error skype error  "
      ]
     },
     "execution_count": 3,
     "metadata": {},
     "output_type": "execute_result"
    }
   ],
   "source": [
    "\n",
    "df_incidents_level = pd.read_csv('../dataset/cleaned_data.csv',encoding='utf-8')\n",
    "df_incidents_level.head()"
   ]
  },
  {
   "cell_type": "code",
   "execution_count": 5,
   "metadata": {},
   "outputs": [],
   "source": [
    "df_incidents_level.rename(columns={'Assignment group':'Assignment_group'},inplace=True)"
   ]
  },
  {
   "cell_type": "code",
   "execution_count": 8,
   "metadata": {},
   "outputs": [
    {
     "data": {
      "text/html": [
       "<div>\n",
       "<style scoped>\n",
       "    .dataframe tbody tr th:only-of-type {\n",
       "        vertical-align: middle;\n",
       "    }\n",
       "\n",
       "    .dataframe tbody tr th {\n",
       "        vertical-align: top;\n",
       "    }\n",
       "\n",
       "    .dataframe thead th {\n",
       "        text-align: right;\n",
       "    }\n",
       "</style>\n",
       "<table border=\"1\" class=\"dataframe\">\n",
       "  <thead>\n",
       "    <tr style=\"text-align: right;\">\n",
       "      <th></th>\n",
       "      <th>Description</th>\n",
       "      <th>Assignment_group</th>\n",
       "      <th>cleaned_description</th>\n",
       "      <th>num_wds</th>\n",
       "      <th>avg_word</th>\n",
       "      <th>uniq_wds</th>\n",
       "      <th>token_desc</th>\n",
       "    </tr>\n",
       "  </thead>\n",
       "  <tbody>\n",
       "    <tr>\n",
       "      <th>0</th>\n",
       "      <td>-verified user details.(employee# &amp; manager na...</td>\n",
       "      <td>GRP_0</td>\n",
       "      <td>login issueverified user detailsemployee manag...</td>\n",
       "      <td>18</td>\n",
       "      <td>7.555556</td>\n",
       "      <td>15</td>\n",
       "      <td>login issueverified user detailsemployee manag...</td>\n",
       "    </tr>\n",
       "    <tr>\n",
       "      <th>1</th>\n",
       "      <td>\\r\\n\\r\\nreceived from: hmjdrvpb.komuaywn@gmail...</td>\n",
       "      <td>GRP_0</td>\n",
       "      <td>outlook hmjdrvpbkomuaywn teammy meetingsskype ...</td>\n",
       "      <td>13</td>\n",
       "      <td>7.538462</td>\n",
       "      <td>12</td>\n",
       "      <td>outlook hmjdrvpbkomuaywn teammy meetingsskype ...</td>\n",
       "    </tr>\n",
       "    <tr>\n",
       "      <th>2</th>\n",
       "      <td>\\r\\n\\r\\nreceived from: eylqgodm.ybqkwiam@gmail...</td>\n",
       "      <td>GRP_0</td>\n",
       "      <td>cant log vpn eylqgodmybqkwiami cannot log vpn</td>\n",
       "      <td>7</td>\n",
       "      <td>5.571429</td>\n",
       "      <td>5</td>\n",
       "      <td>cant log vpn eylqgodmybqkwiami cannot log vpn</td>\n",
       "    </tr>\n",
       "    <tr>\n",
       "      <th>3</th>\n",
       "      <td>unable to access hr_tool page</td>\n",
       "      <td>GRP_0</td>\n",
       "      <td>unable access hrtool pageunable access hrtool ...</td>\n",
       "      <td>7</td>\n",
       "      <td>6.285714</td>\n",
       "      <td>5</td>\n",
       "      <td>unable access hrtool pageunable access hrtool ...</td>\n",
       "    </tr>\n",
       "    <tr>\n",
       "      <th>4</th>\n",
       "      <td>skype error</td>\n",
       "      <td>GRP_0</td>\n",
       "      <td>skype error skype error</td>\n",
       "      <td>4</td>\n",
       "      <td>5.000000</td>\n",
       "      <td>2</td>\n",
       "      <td>skype error skype error</td>\n",
       "    </tr>\n",
       "  </tbody>\n",
       "</table>\n",
       "</div>"
      ],
      "text/plain": [
       "                                         Description Assignment_group  \\\n",
       "0  -verified user details.(employee# & manager na...            GRP_0   \n",
       "1  \\r\\n\\r\\nreceived from: hmjdrvpb.komuaywn@gmail...            GRP_0   \n",
       "2  \\r\\n\\r\\nreceived from: eylqgodm.ybqkwiam@gmail...            GRP_0   \n",
       "3                      unable to access hr_tool page            GRP_0   \n",
       "4                                       skype error             GRP_0   \n",
       "\n",
       "                                 cleaned_description  num_wds  avg_word  \\\n",
       "0  login issueverified user detailsemployee manag...       18  7.555556   \n",
       "1  outlook hmjdrvpbkomuaywn teammy meetingsskype ...       13  7.538462   \n",
       "2      cant log vpn eylqgodmybqkwiami cannot log vpn        7  5.571429   \n",
       "3  unable access hrtool pageunable access hrtool ...        7  6.285714   \n",
       "4                            skype error skype error        4  5.000000   \n",
       "\n",
       "   uniq_wds                                         token_desc  \n",
       "0        15  login issueverified user detailsemployee manag...  \n",
       "1        12  outlook hmjdrvpbkomuaywn teammy meetingsskype ...  \n",
       "2         5      cant log vpn eylqgodmybqkwiami cannot log vpn  \n",
       "3         5  unable access hrtool pageunable access hrtool ...  \n",
       "4         2                            skype error skype error  "
      ]
     },
     "execution_count": 8,
     "metadata": {},
     "output_type": "execute_result"
    }
   ],
   "source": [
    "df_incidents_level.head()\n",
    "# Since the dataset is very imbalanced, we will be considering a subset of groups for predictions. In 74 groups, 46% of tickets belong to group 1 and 16 groups have more than 100 tickets and around 22 groups have more than 50 tickets, rest of the Assignment groups have very less ticket counts which might not add much value to the model prediction. If we conducted random sampling towards all the subcategories, then we would face a problem that we might miss all the tickets in some categories. Hence, we considered the groups that have more than 50 tickets in this appoach\n"
   ]
  },
  {
   "cell_type": "code",
   "execution_count": 10,
   "metadata": {},
   "outputs": [],
   "source": [
    "df_incidents_level = df_incidents_level[df_incidents_level['Assignment_group'].map(df_incidents_level['Assignment_group'].value_counts()) > 50]\n",
    "\n",
    "df_incidents_level['Target'] = np.where(df_incidents_level['Assignment_group']=='GRP_0','L1/L2',np.where(df_incidents_level['Assignment_group'] =='GRP_8','L1/L2','L3'))\n",
    "x = df_incidents_level['token_desc']\n",
    "y = df_incidents_level['Target']\n",
    "from sklearn import preprocessing\n",
    "encoder = preprocessing.LabelEncoder()\n",
    "# encoding train labels \n",
    "encoder.fit(y)\n",
    "y = encoder.transform(y)\n"
   ]
  },
  {
   "cell_type": "code",
   "execution_count": 11,
   "metadata": {},
   "outputs": [],
   "source": [
    "from sklearn.model_selection import train_test_split\n",
    "X_train, X_test, y_train, y_test = train_test_split(x, y, test_size= 0.2, random_state=13,stratify=y)\n",
    "from sklearn.utils.class_weight import compute_class_weight\n"
   ]
  },
  {
   "cell_type": "code",
   "execution_count": 12,
   "metadata": {},
   "outputs": [],
   "source": [
    "from sklearn.utils.class_weight import compute_class_weight\n"
   ]
  },
  {
   "cell_type": "code",
   "execution_count": 13,
   "metadata": {},
   "outputs": [
    {
     "data": {
      "text/plain": [
       "array([0.8336489 , 1.24929064])"
      ]
     },
     "execution_count": 13,
     "metadata": {},
     "output_type": "execute_result"
    }
   ],
   "source": [
    "class_weights = compute_class_weight('balanced', np.unique(y_train), y_train)\n",
    "class_weights"
   ]
  },
  {
   "cell_type": "code",
   "execution_count": 16,
   "metadata": {},
   "outputs": [],
   "source": [
    "w_array = np.ones(y_train.shape[0], dtype = 'float')\n",
    "for i, val in enumerate(y_train):\n",
    "    w_array[i] = class_weights[val]\n",
    "    \n",
    "    \n",
    "log_cols=[\"Classifier\", \"accuracy\",\"f1_score\"]\n",
    "log1 = pd.DataFrame(columns=log_cols)"
   ]
  },
  {
   "cell_type": "code",
   "execution_count": 17,
   "metadata": {},
   "outputs": [
    {
     "data": {
      "text/html": [
       "<div>\n",
       "<style scoped>\n",
       "    .dataframe tbody tr th:only-of-type {\n",
       "        vertical-align: middle;\n",
       "    }\n",
       "\n",
       "    .dataframe tbody tr th {\n",
       "        vertical-align: top;\n",
       "    }\n",
       "\n",
       "    .dataframe thead th {\n",
       "        text-align: right;\n",
       "    }\n",
       "</style>\n",
       "<table border=\"1\" class=\"dataframe\">\n",
       "  <thead>\n",
       "    <tr style=\"text-align: right;\">\n",
       "      <th></th>\n",
       "      <th>Classifier</th>\n",
       "      <th>accuracy</th>\n",
       "      <th>f1_score</th>\n",
       "    </tr>\n",
       "  </thead>\n",
       "  <tbody>\n",
       "  </tbody>\n",
       "</table>\n",
       "</div>"
      ],
      "text/plain": [
       "Empty DataFrame\n",
       "Columns: [Classifier, accuracy, f1_score]\n",
       "Index: []"
      ]
     },
     "execution_count": 17,
     "metadata": {},
     "output_type": "execute_result"
    }
   ],
   "source": [
    "log1"
   ]
  },
  {
   "cell_type": "code",
   "execution_count": 18,
   "metadata": {},
   "outputs": [],
   "source": [
    "def multiclass_logloss(actual, predicted, eps=1e-15):\n",
    "    \"\"\"Multi class version of Logarithmic Loss metric.\n",
    "    :param actual: Array containing the actual target classes\n",
    "    :param predicted: Matrix with class predictions, one probability per class\n",
    "    \"\"\"\n",
    "    # Convert 'actual' to a binary array if it's not already:\n",
    "    if len(actual.shape) == 1:\n",
    "        actual2 = np.zeros((actual.shape[0], predicted.shape[1]))\n",
    "        for i, val in enumerate(actual):\n",
    "            actual2[i, val] = 1\n",
    "        actual = actual2\n",
    "\n",
    "    clip = np.clip(predicted, eps, 1 - eps)\n",
    "    rows = actual.shape[0]\n",
    "    vsota = np.sum(actual * np.log(clip))\n",
    "    return -1.0 / rows * vsota\n"
   ]
  },
  {
   "cell_type": "code",
   "execution_count": 19,
   "metadata": {},
   "outputs": [],
   "source": [
    "# ### Modeling\n",
    "# \n",
    "# Pass the data to various models which learns to classify the tickets into one of the two groups -  L1/L2 or L3 class\n",
    "\n",
    "# #### Multinomial Naive Bayes"
   ]
  },
  {
   "cell_type": "code",
   "execution_count": 20,
   "metadata": {},
   "outputs": [
    {
     "data": {
      "text/plain": [
       "Pipeline(steps=[('vect', CountVectorizer()), ('tfidf', TfidfTransformer()),\n",
       "                ('clf', MultinomialNB())])"
      ]
     },
     "execution_count": 20,
     "metadata": {},
     "output_type": "execute_result"
    }
   ],
   "source": [
    "from sklearn.naive_bayes import MultinomialNB\n",
    "from sklearn.feature_extraction.text import CountVectorizer\n",
    "\n",
    "from sklearn.pipeline import Pipeline\n",
    "from sklearn.feature_extraction.text import TfidfTransformer\n",
    "\n",
    "nb = Pipeline([('vect', CountVectorizer()),\n",
    "               ('tfidf', TfidfTransformer()),\n",
    "               ('clf', MultinomialNB()),\n",
    "              ])\n",
    "nb.fit(X_train, y_train)\n"
   ]
  },
  {
   "cell_type": "code",
   "execution_count": 21,
   "metadata": {},
   "outputs": [
    {
     "name": "stdout",
     "output_type": "stream",
     "text": [
      "accuracy 0.7800129785853342\n",
      "f1 score 0.7945710081662295\n",
      "logloss: 0.431 \n",
      "              precision    recall  f1-score   support\n",
      "\n",
      "           0       0.75      0.95      0.84       924\n",
      "           1       0.88      0.53      0.66       617\n",
      "\n",
      "    accuracy                           0.78      1541\n",
      "   macro avg       0.81      0.74      0.75      1541\n",
      "weighted avg       0.80      0.78      0.77      1541\n",
      "\n",
      "[[878  46]\n",
      " [293 324]]\n"
     ]
    }
   ],
   "source": [
    "from sklearn.metrics import accuracy_score, confusion_matrix, f1_score\n",
    "from sklearn.metrics import classification_report\n",
    "y_pred = nb.predict(X_test)\n",
    "\n",
    "predictions = nb.predict_proba(X_test)\n",
    "\n",
    "print('accuracy %s' % accuracy_score(y_pred, y_test)) \n",
    "print('f1 score %s' % f1_score(y_pred, y_test,average='weighted')) \n",
    "print (\"logloss: %0.3f \" % multiclass_logloss(y_test,predictions))\n",
    "\n",
    "print(classification_report(y_test, y_pred))\n",
    "\n",
    "print(confusion_matrix(y_test,y_pred))\n",
    "\n",
    "\n",
    "log_entry = pd.DataFrame([[\"MultinomialNB\",accuracy_score(y_pred, y_test),f1_score(y_pred, y_test,average='weighted')]], columns=log_cols)\n",
    "log1 = log1.append(log_entry)\n",
    "\n"
   ]
  },
  {
   "cell_type": "code",
   "execution_count": 22,
   "metadata": {},
   "outputs": [],
   "source": [
    "# #### Linear SVC\n"
   ]
  },
  {
   "cell_type": "code",
   "execution_count": 23,
   "metadata": {},
   "outputs": [
    {
     "name": "stdout",
     "output_type": "stream",
     "text": [
      "accuracy 0.8027255029201817\n",
      "f1 score 0.8010106025644771\n",
      "              precision    recall  f1-score   support\n",
      "\n",
      "           0       0.87      0.78      0.83       924\n",
      "           1       0.72      0.83      0.77       617\n",
      "\n",
      "    accuracy                           0.80      1541\n",
      "   macro avg       0.80      0.81      0.80      1541\n",
      "weighted avg       0.81      0.80      0.80      1541\n",
      "\n",
      "[[724 200]\n",
      " [104 513]]\n"
     ]
    }
   ],
   "source": [
    "from sklearn.svm import LinearSVC\n",
    "\n",
    "svc = Pipeline([('vect', CountVectorizer()),\n",
    "                ('tfidf', TfidfTransformer()),\n",
    "                ('clf', OneVsRestClassifier(LinearSVC(loss='hinge',random_state=42,class_weight='balanced'))),\n",
    "               ])\n",
    "svc.fit(X_train, y_train)\n",
    "\n",
    "y_pred = svc.predict(X_test)\n",
    "print('accuracy %s' % accuracy_score(y_pred, y_test))\n",
    "print('f1 score %s' % f1_score(y_pred, y_test,average='weighted')) \n",
    "\n",
    "\n",
    "print(classification_report(y_test, y_pred))\n",
    "\n",
    "print(confusion_matrix(y_test,y_pred))\n",
    "log_entry = pd.DataFrame([[\"LinearSVC\",accuracy_score(y_pred, y_test),f1_score(y_pred, y_test,average='weighted')]], columns=log_cols)\n",
    "log1 = log1.append(log_entry)\n",
    "\n",
    "\n"
   ]
  },
  {
   "cell_type": "code",
   "execution_count": 24,
   "metadata": {},
   "outputs": [],
   "source": [
    "# #### SGD Classifier\n"
   ]
  },
  {
   "cell_type": "code",
   "execution_count": 25,
   "metadata": {},
   "outputs": [
    {
     "name": "stdout",
     "output_type": "stream",
     "text": [
      "accuracy 0.755353666450357\n",
      "f1 score 0.7536760729524584\n",
      "              precision    recall  f1-score   support\n",
      "\n",
      "           0       0.90      0.67      0.77       924\n",
      "           1       0.64      0.89      0.74       617\n",
      "\n",
      "    accuracy                           0.76      1541\n",
      "   macro avg       0.77      0.78      0.75      1541\n",
      "weighted avg       0.80      0.76      0.76      1541\n",
      "\n",
      "[[616 308]\n",
      " [ 69 548]]\n"
     ]
    }
   ],
   "source": [
    "from sklearn.linear_model import SGDClassifier\n",
    "\n",
    "sgd = Pipeline([('vect', CountVectorizer()),\n",
    "                ('tfidf', TfidfTransformer()),\n",
    "                ('clf', SGDClassifier(loss='hinge', penalty='l2',alpha=1e-3, random_state=42, max_iter=100, tol=None,class_weight='balanced')),\n",
    "               ])\n",
    "sgd.fit(X_train, y_train)\n",
    "\n",
    "y_pred = sgd.predict(X_test)\n",
    "print('accuracy %s' % accuracy_score(y_pred, y_test))\n",
    "print('f1 score %s' % f1_score(y_pred, y_test,average='weighted')) \n",
    "\n",
    "\n",
    "print(classification_report(y_test, y_pred))\n",
    "\n",
    "print(confusion_matrix(y_test,y_pred))\n",
    "\n",
    "log_entry = pd.DataFrame([[\"SGDClassifier\",accuracy_score(y_pred, y_test),f1_score(y_pred, y_test,average='weighted')]], columns=log_cols)\n",
    "log1 = log1.append(log_entry)\n"
   ]
  },
  {
   "cell_type": "code",
   "execution_count": 26,
   "metadata": {},
   "outputs": [],
   "source": [
    "# #### Logistic Regression\n"
   ]
  },
  {
   "cell_type": "code",
   "execution_count": 27,
   "metadata": {},
   "outputs": [
    {
     "name": "stdout",
     "output_type": "stream",
     "text": [
      "accuracy 0.7657365347177157\n",
      "f1 score 0.7636674268416505\n",
      "logloss: 1.877 \n",
      "              precision    recall  f1-score   support\n",
      "\n",
      "           0       0.84      0.75      0.79       924\n",
      "           1       0.68      0.79      0.73       617\n",
      "\n",
      "    accuracy                           0.77      1541\n",
      "   macro avg       0.76      0.77      0.76      1541\n",
      "weighted avg       0.78      0.77      0.77      1541\n",
      "\n",
      "[[694 230]\n",
      " [131 486]]\n"
     ]
    }
   ],
   "source": [
    "from sklearn.linear_model import LogisticRegression\n",
    "\n",
    "logreg_1 = Pipeline([('vect', CountVectorizer()),\n",
    "                ('tfidf', TfidfTransformer()),\n",
    "                ('clf', LogisticRegression(n_jobs=1, C=1e5,class_weight='balanced')),\n",
    "               ])\n",
    "logreg_1.fit(X_train, y_train)\n",
    "\n",
    "y_pred = logreg_1.predict(X_test)\n",
    "predictions = logreg_1.predict_proba(X_test)\n",
    "\n",
    "print('accuracy %s' % accuracy_score(y_pred, y_test))\n",
    "print('f1 score %s' % f1_score(y_pred, y_test,average='weighted')) \n",
    "print (\"logloss: %0.3f \" % multiclass_logloss(y_test,predictions))\n",
    "\n",
    "print(classification_report(y_test, y_pred))\n",
    "\n",
    "print(confusion_matrix(y_test,y_pred))\n",
    "\n",
    "log_entry = pd.DataFrame([[\"LogisticRegression\",accuracy_score(y_pred, y_test),f1_score(y_pred, y_test,average='weighted')]], columns=log_cols)\n",
    "log1 = log1.append(log_entry)\n",
    "\n"
   ]
  },
  {
   "cell_type": "code",
   "execution_count": 28,
   "metadata": {},
   "outputs": [
    {
     "data": {
      "text/html": [
       "<div>\n",
       "<style scoped>\n",
       "    .dataframe tbody tr th:only-of-type {\n",
       "        vertical-align: middle;\n",
       "    }\n",
       "\n",
       "    .dataframe tbody tr th {\n",
       "        vertical-align: top;\n",
       "    }\n",
       "\n",
       "    .dataframe thead th {\n",
       "        text-align: right;\n",
       "    }\n",
       "</style>\n",
       "<table border=\"1\" class=\"dataframe\">\n",
       "  <thead>\n",
       "    <tr style=\"text-align: right;\">\n",
       "      <th></th>\n",
       "      <th>accuracy</th>\n",
       "      <th>f1_score</th>\n",
       "    </tr>\n",
       "    <tr>\n",
       "      <th>Classifier</th>\n",
       "      <th></th>\n",
       "      <th></th>\n",
       "    </tr>\n",
       "  </thead>\n",
       "  <tbody>\n",
       "    <tr>\n",
       "      <th>SGDClassifier</th>\n",
       "      <td>0.755354</td>\n",
       "      <td>0.753676</td>\n",
       "    </tr>\n",
       "    <tr>\n",
       "      <th>LogisticRegression</th>\n",
       "      <td>0.765737</td>\n",
       "      <td>0.763667</td>\n",
       "    </tr>\n",
       "    <tr>\n",
       "      <th>MultinomialNB</th>\n",
       "      <td>0.780013</td>\n",
       "      <td>0.794571</td>\n",
       "    </tr>\n",
       "    <tr>\n",
       "      <th>LinearSVC</th>\n",
       "      <td>0.802726</td>\n",
       "      <td>0.801011</td>\n",
       "    </tr>\n",
       "  </tbody>\n",
       "</table>\n",
       "</div>"
      ],
      "text/plain": [
       "                    accuracy  f1_score\n",
       "Classifier                            \n",
       "SGDClassifier       0.755354  0.753676\n",
       "LogisticRegression  0.765737  0.763667\n",
       "MultinomialNB       0.780013  0.794571\n",
       "LinearSVC           0.802726  0.801011"
      ]
     },
     "execution_count": 28,
     "metadata": {},
     "output_type": "execute_result"
    }
   ],
   "source": [
    "log1.set_index([\"Classifier\"],inplace=True)\n",
    "log1.sort_values(by=['f1_score'])\n"
   ]
  },
  {
   "cell_type": "code",
   "execution_count": 29,
   "metadata": {},
   "outputs": [
    {
     "data": {
      "text/plain": [
       "<matplotlib.axes._subplots.AxesSubplot at 0x7ff2b94e8c88>"
      ]
     },
     "execution_count": 29,
     "metadata": {},
     "output_type": "execute_result"
    },
    {
     "data": {
      "image/png": "[encoded data removed]",
      "text/plain": [
       "<Figure size 504x432 with 1 Axes>"
      ]
     },
     "metadata": {
      "needs_background": "light"
     },
     "output_type": "display_data"
    }
   ],
   "source": [
    "log1.sort_values(by=['f1_score']).plot(kind='barh',figsize=[7,6])\n"
   ]
  },
  {
   "cell_type": "code",
   "execution_count": 30,
   "metadata": {},
   "outputs": [],
   "source": [
    "# Linear SVC gives better performance compared to other models\n"
   ]
  },
  {
   "cell_type": "code",
   "execution_count": 33,
   "metadata": {},
   "outputs": [
    {
     "data": {
      "text/plain": [
       "['l1_l2_classification.pkl']"
      ]
     },
     "execution_count": 33,
     "metadata": {},
     "output_type": "execute_result"
    }
   ],
   "source": [
    "### Save the model\n",
    "# from sklearn.externals import joblib\n",
    "import sklearn.externals\n",
    "import joblib\n",
    "joblib.dump(svc, 'l1_l2_classification.pkl', compress=1)"
   ]
  },
  {
   "cell_type": "code",
   "execution_count": null,
   "metadata": {},
   "outputs": [],
   "source": []
  },
  {
   "cell_type": "code",
   "execution_count": 34,
   "metadata": {},
   "outputs": [
    {
     "data": {
      "text/plain": [
       "{'L1/L2': 0, 'L3': 1}"
      ]
     },
     "execution_count": 34,
     "metadata": {},
     "output_type": "execute_result"
    }
   ],
   "source": [
    "\n",
    "le_name_mapping = dict(zip(encoder.classes_, encoder.transform(encoder.classes_)))\n",
    "le_name_mapping\n"
   ]
  },
  {
   "cell_type": "code",
   "execution_count": 35,
   "metadata": {},
   "outputs": [
    {
     "data": {
      "text/plain": [
       "array(['L1/L2'], dtype=object)"
      ]
     },
     "execution_count": 35,
     "metadata": {},
     "output_type": "execute_result"
    }
   ],
   "source": [
    "import joblib\n",
    "\n",
    "model = joblib.load('l1_l2_classification.pkl')\n",
    "\n",
    "sentence = 'job failed in scheduler'\n",
    "encoder.inverse_transform(model.predict([sentence]))\n"
   ]
  },
  {
   "cell_type": "code",
   "execution_count": 36,
   "metadata": {},
   "outputs": [
    {
     "data": {
      "text/plain": [
       "(4621, 8)"
      ]
     },
     "execution_count": 36,
     "metadata": {},
     "output_type": "execute_result"
    }
   ],
   "source": [
    "df_incidents_l1_l2 = df_incidents_level[df_incidents_level['Target'] == 'L1/L2']\n",
    "df_incidents_l1_l2.shape\n",
    "\n"
   ]
  },
  {
   "cell_type": "code",
   "execution_count": 37,
   "metadata": {},
   "outputs": [
    {
     "data": {
      "text/plain": [
       "GRP_0    3960\n",
       "GRP_8     661\n",
       "Name: Assignment_group, dtype: int64"
      ]
     },
     "execution_count": 37,
     "metadata": {},
     "output_type": "execute_result"
    }
   ],
   "source": [
    "df_incidents_l1_l2.Assignment_group.value_counts()\n"
   ]
  },
  {
   "cell_type": "code",
   "execution_count": 38,
   "metadata": {},
   "outputs": [],
   "source": [
    "x = df_incidents_l1_l2['token_desc']\n",
    "y = df_incidents_l1_l2['Assignment_group']\n"
   ]
  },
  {
   "cell_type": "code",
   "execution_count": 39,
   "metadata": {},
   "outputs": [],
   "source": [
    "from sklearn import preprocessing\n",
    "encoder = preprocessing.LabelEncoder()\n",
    "# encoding train labels \n",
    "encoder.fit(y)\n",
    "y = encoder.transform(y)\n"
   ]
  },
  {
   "cell_type": "code",
   "execution_count": 40,
   "metadata": {},
   "outputs": [],
   "source": [
    "from sklearn.model_selection import train_test_split\n",
    "X_train, X_test, y_train, y_test = train_test_split(x, y, test_size= 0.2, random_state=13,stratify=y)\n",
    "\n",
    "from sklearn.utils.class_weight import compute_class_weight\n",
    "class_weights = compute_class_weight('balanced', np.unique(y_train), y_train)\n",
    "class_weights\n",
    "\n",
    "w_array = np.ones(y_train.shape[0], dtype = 'float')\n",
    "for i, val in enumerate(y_train):\n",
    "    w_array[i] = class_weights[val]\n",
    "    \n",
    "    \n",
    "log_cols=[\"Classifier\", \"accuracy\",\"f1_score\"]\n",
    "log2 = pd.DataFrame(columns=log_cols)\n"
   ]
  },
  {
   "cell_type": "code",
   "execution_count": 41,
   "metadata": {},
   "outputs": [
    {
     "name": "stdout",
     "output_type": "stream",
     "text": [
      "accuracy 0.9881081081081081\n",
      "f1 score 0.9883256723277415\n",
      "logloss: 0.044 \n",
      "              precision    recall  f1-score   support\n",
      "\n",
      "           0       0.99      1.00      0.99       793\n",
      "           1       1.00      0.92      0.96       132\n",
      "\n",
      "    accuracy                           0.99       925\n",
      "   macro avg       0.99      0.96      0.97       925\n",
      "weighted avg       0.99      0.99      0.99       925\n",
      "\n",
      "[[793   0]\n",
      " [ 11 121]]\n"
     ]
    }
   ],
   "source": [
    "# ### Naive Bayes\n",
    "\n",
    "\n",
    "\n",
    "from sklearn.naive_bayes import MultinomialNB\n",
    "from sklearn.pipeline import Pipeline\n",
    "from sklearn.feature_extraction.text import TfidfTransformer\n",
    "from sklearn.feature_extraction.text import CountVectorizer\n",
    "from sklearn.metrics import accuracy_score, confusion_matrix, f1_score\n",
    "from sklearn.metrics import classification_report\n",
    "\n",
    "\n",
    "nb = Pipeline([('vect', CountVectorizer()),\n",
    "               ('tfidf', TfidfTransformer()),\n",
    "               ('clf', MultinomialNB()),\n",
    "              ])\n",
    "nb.fit(X_train, y_train)\n",
    "\n",
    "\n",
    "y_pred = nb.predict(X_test)\n",
    "predictions = nb.predict_proba(X_test)\n",
    "\n",
    "print('accuracy %s' % accuracy_score(y_pred, y_test)) \n",
    "print('f1 score %s' % f1_score(y_pred, y_test,average='weighted')) \n",
    "print (\"logloss: %0.3f \" % multiclass_logloss(y_test,predictions))\n",
    "\n",
    "print(classification_report(y_test, y_pred))\n",
    "\n",
    "print(confusion_matrix(y_test,y_pred))\n",
    "\n",
    "\n",
    "log_entry = pd.DataFrame([[\"MultinomialNB\",accuracy_score(y_pred, y_test),f1_score(y_pred, y_test,average='weighted')]], columns=log_cols)\n",
    "log2 = log2.append(log_entry)"
   ]
  },
  {
   "cell_type": "code",
   "execution_count": 42,
   "metadata": {},
   "outputs": [
    {
     "name": "stdout",
     "output_type": "stream",
     "text": [
      "Test accuracy 0.9913513513513513\n",
      "Test f1 score 0.9914647834785852\n",
      "              precision    recall  f1-score   support\n",
      "\n",
      "           0       0.99      1.00      0.99       793\n",
      "           1       1.00      0.94      0.97       132\n",
      "\n",
      "    accuracy                           0.99       925\n",
      "   macro avg       1.00      0.97      0.98       925\n",
      "weighted avg       0.99      0.99      0.99       925\n",
      "\n",
      "[[793   0]\n",
      " [  8 124]]\n"
     ]
    }
   ],
   "source": [
    "# ### Linear Support Vector Machine\n",
    "\n",
    "\n",
    "\n",
    "from sklearn.svm import LinearSVC\n",
    "from sklearn.multiclass import OneVsRestClassifier\n",
    "\n",
    "\n",
    "svc = Pipeline([('vect', CountVectorizer()),\n",
    "                ('tfidf', TfidfTransformer()),\n",
    "                ('clf', OneVsRestClassifier(LinearSVC(loss='hinge',random_state=42,class_weight='balanced'))),\n",
    "               ])\n",
    "svc.fit(X_train, y_train)\n",
    "\n",
    "y_pred = svc.predict(X_test)\n",
    "print('Test accuracy %s' % accuracy_score(y_pred, y_test))\n",
    "print('Test f1 score %s' % f1_score(y_pred, y_test,average='weighted')) \n",
    "\n",
    "print(classification_report(y_test, y_pred))\n",
    "\n",
    "print(confusion_matrix(y_test,y_pred))\n",
    "\n",
    "log_entry = pd.DataFrame([[\"LinearSVC\",accuracy_score(y_pred, y_test),f1_score(y_pred, y_test,average='weighted')]], columns=log_cols)\n",
    "log2 = log2.append(log_entry)\n",
    "\n"
   ]
  },
  {
   "cell_type": "code",
   "execution_count": 43,
   "metadata": {},
   "outputs": [
    {
     "name": "stdout",
     "output_type": "stream",
     "text": [
      "accuracy 0.9902702702702703\n",
      "f1 score 0.9904145207350075\n",
      "              precision    recall  f1-score   support\n",
      "\n",
      "           0       0.99      1.00      0.99       793\n",
      "           1       1.00      0.93      0.96       132\n",
      "\n",
      "    accuracy                           0.99       925\n",
      "   macro avg       0.99      0.97      0.98       925\n",
      "weighted avg       0.99      0.99      0.99       925\n",
      "\n",
      "[[793   0]\n",
      " [  9 123]]\n"
     ]
    }
   ],
   "source": [
    "# ### SGD Classifier\n",
    "\n",
    "\n",
    "\n",
    "from sklearn.linear_model import SGDClassifier\n",
    "\n",
    "sgd = Pipeline([('vect', CountVectorizer()),\n",
    "                ('tfidf', TfidfTransformer()),\n",
    "                ('clf', SGDClassifier(loss='hinge', penalty='l2',alpha=1e-3, random_state=42, max_iter=100, tol=None,class_weight='balanced')),\n",
    "               ])\n",
    "sgd.fit(X_train, y_train)\n",
    "\n",
    "\n",
    "\n",
    "\n",
    "y_pred = sgd.predict(X_test)\n",
    "print('accuracy %s' % accuracy_score(y_pred, y_test))\n",
    "print('f1 score %s' % f1_score(y_pred, y_test,average='weighted')) \n",
    "\n",
    "\n",
    "print(classification_report(y_test, y_pred))\n",
    "\n",
    "print(confusion_matrix(y_test,y_pred))\n",
    "\n",
    "\n",
    "log_entry = pd.DataFrame([[\"SGDClassifier\",accuracy_score(y_pred, y_test),f1_score(y_pred, y_test,average='weighted')]], columns=log_cols)\n",
    "log2 = log2.append(log_entry)\n"
   ]
  },
  {
   "cell_type": "code",
   "execution_count": 44,
   "metadata": {},
   "outputs": [
    {
     "name": "stdout",
     "output_type": "stream",
     "text": [
      "accuracy 0.9913513513513513\n",
      "f1 score 0.9914647834785852\n",
      "logloss: 0.054 \n",
      "              precision    recall  f1-score   support\n",
      "\n",
      "           0       0.99      1.00      0.99       793\n",
      "           1       1.00      0.94      0.97       132\n",
      "\n",
      "    accuracy                           0.99       925\n",
      "   macro avg       1.00      0.97      0.98       925\n",
      "weighted avg       0.99      0.99      0.99       925\n",
      "\n",
      "[[793   0]\n",
      " [  8 124]]\n"
     ]
    }
   ],
   "source": [
    "# ### Logistic Regression\n",
    "\n",
    "\n",
    "\n",
    "from sklearn.linear_model import LogisticRegression\n",
    "\n",
    "logreg_1 = Pipeline([('vect', CountVectorizer()),\n",
    "                ('tfidf', TfidfTransformer()),\n",
    "                ('clf', LogisticRegression(n_jobs=1, C=1e5,class_weight='balanced')),\n",
    "               ])\n",
    "logreg_1.fit(X_train, y_train)\n",
    "\n",
    "y_pred = logreg_1.predict(X_test)\n",
    "predictions = logreg_1.predict_proba(X_test)\n",
    "\n",
    "print('accuracy %s' % accuracy_score(y_pred, y_test))\n",
    "print('f1 score %s' % f1_score(y_pred, y_test,average='weighted')) \n",
    "print (\"logloss: %0.3f \" % multiclass_logloss(y_test,predictions))\n",
    "\n",
    "print(classification_report(y_test, y_pred))\n",
    "\n",
    "print(confusion_matrix(y_test,y_pred))\n",
    "\n",
    "log_entry = pd.DataFrame([[\"LogisticRegression\",accuracy_score(y_pred, y_test),f1_score(y_pred, y_test,average='weighted')]], columns=log_cols)\n",
    "log2 = log2.append(log_entry)\n"
   ]
  },
  {
   "cell_type": "code",
   "execution_count": 45,
   "metadata": {},
   "outputs": [
    {
     "data": {
      "text/html": [
       "<div>\n",
       "<style scoped>\n",
       "    .dataframe tbody tr th:only-of-type {\n",
       "        vertical-align: middle;\n",
       "    }\n",
       "\n",
       "    .dataframe tbody tr th {\n",
       "        vertical-align: top;\n",
       "    }\n",
       "\n",
       "    .dataframe thead th {\n",
       "        text-align: right;\n",
       "    }\n",
       "</style>\n",
       "<table border=\"1\" class=\"dataframe\">\n",
       "  <thead>\n",
       "    <tr style=\"text-align: right;\">\n",
       "      <th></th>\n",
       "      <th>accuracy</th>\n",
       "      <th>f1_score</th>\n",
       "    </tr>\n",
       "    <tr>\n",
       "      <th>Classifier</th>\n",
       "      <th></th>\n",
       "      <th></th>\n",
       "    </tr>\n",
       "  </thead>\n",
       "  <tbody>\n",
       "    <tr>\n",
       "      <th>MultinomialNB</th>\n",
       "      <td>0.988108</td>\n",
       "      <td>0.988326</td>\n",
       "    </tr>\n",
       "    <tr>\n",
       "      <th>SGDClassifier</th>\n",
       "      <td>0.990270</td>\n",
       "      <td>0.990415</td>\n",
       "    </tr>\n",
       "    <tr>\n",
       "      <th>LinearSVC</th>\n",
       "      <td>0.991351</td>\n",
       "      <td>0.991465</td>\n",
       "    </tr>\n",
       "    <tr>\n",
       "      <th>LogisticRegression</th>\n",
       "      <td>0.991351</td>\n",
       "      <td>0.991465</td>\n",
       "    </tr>\n",
       "  </tbody>\n",
       "</table>\n",
       "</div>"
      ],
      "text/plain": [
       "                    accuracy  f1_score\n",
       "Classifier                            \n",
       "MultinomialNB       0.988108  0.988326\n",
       "SGDClassifier       0.990270  0.990415\n",
       "LinearSVC           0.991351  0.991465\n",
       "LogisticRegression  0.991351  0.991465"
      ]
     },
     "execution_count": 45,
     "metadata": {},
     "output_type": "execute_result"
    }
   ],
   "source": [
    "log2.set_index([\"Classifier\"],inplace=True)\n",
    "log2.sort_values(by=['f1_score'])\n"
   ]
  },
  {
   "cell_type": "code",
   "execution_count": 48,
   "metadata": {},
   "outputs": [
    {
     "data": {
      "text/plain": [
       "['model_l1_l2.pkl']"
      ]
     },
     "execution_count": 48,
     "metadata": {},
     "output_type": "execute_result"
    }
   ],
   "source": [
    "### Save the model\n",
    "import joblib\n",
    "joblib.dump(logreg_1, 'model_l1_l2.pkl', compress=1)\n"
   ]
  },
  {
   "cell_type": "code",
   "execution_count": 49,
   "metadata": {},
   "outputs": [
    {
     "data": {
      "text/plain": [
       "{'GRP_0': 0, 'GRP_8': 1}"
      ]
     },
     "execution_count": 49,
     "metadata": {},
     "output_type": "execute_result"
    }
   ],
   "source": [
    "le_name_mapping = dict(zip(encoder.classes_, encoder.transform(encoder.classes_)))\n",
    "le_name_mapping\n"
   ]
  },
  {
   "cell_type": "code",
   "execution_count": 51,
   "metadata": {},
   "outputs": [
    {
     "data": {
      "text/plain": [
       "array(['GRP_8'], dtype=object)"
      ]
     },
     "execution_count": 51,
     "metadata": {},
     "output_type": "execute_result"
    }
   ],
   "source": [
    "import joblib\n",
    "model = joblib.load('model_l1_l2.pkl')\n",
    "\n",
    "sentence = 'job failed in scheduler'\n",
    "encoder.inverse_transform(model.predict([sentence]))"
   ]
  },
  {
   "cell_type": "code",
   "execution_count": 52,
   "metadata": {},
   "outputs": [],
   "source": [
    "# ## Model to classify L3 tickets\n",
    "# \n",
    "# Lets's now train the models to classify the L3 tickets into one of the assignement groups.\n"
   ]
  },
  {
   "cell_type": "code",
   "execution_count": 53,
   "metadata": {},
   "outputs": [],
   "source": [
    "df_incidents_l3 = df_incidents_level[df_incidents_level['Target'] == 'L3']\n",
    "df_incidents_l3 = df_incidents_l3[df_incidents_l3['Assignment_group'].map(df_incidents_l3['Assignment_group'].value_counts()) > 50]\n",
    "x = df_incidents_l3['token_desc']\n",
    "y = df_incidents_l3['Assignment_group']\n",
    "\n",
    "from sklearn import preprocessing\n",
    "encoder = preprocessing.LabelEncoder()\n",
    "# encoding train labels \n",
    "encoder.fit(y)\n",
    "y = encoder.transform(y)"
   ]
  },
  {
   "cell_type": "code",
   "execution_count": 54,
   "metadata": {},
   "outputs": [],
   "source": [
    "from sklearn.model_selection import train_test_split\n",
    "X_train, X_test, y_train, y_test = train_test_split(x, y, test_size= 0.2, random_state=13,stratify=y)\n",
    "\n",
    "from sklearn.utils.class_weight import compute_class_weight\n",
    "class_weights = compute_class_weight('balanced', np.unique(y_train), y_train)\n",
    "class_weights\n",
    "\n",
    "w_array = np.ones(y_train.shape[0], dtype = 'float')\n",
    "for i, val in enumerate(y_train):\n",
    "    w_array[i] = class_weights[val]\n",
    "    \n",
    "log_cols=[\"Classifier\", \"accuracy\",\"f1_score\"]\n",
    "log = pd.DataFrame(columns=log_cols)\n"
   ]
  },
  {
   "cell_type": "code",
   "execution_count": 55,
   "metadata": {},
   "outputs": [
    {
     "name": "stdout",
     "output_type": "stream",
     "text": [
      "accuracy 0.47649918962722854\n",
      "f1 score 0.5555073395313899\n",
      "logloss: 1.909 \n",
      "              precision    recall  f1-score   support\n",
      "\n",
      "           0       0.75      0.11      0.19        28\n",
      "           1       0.53      0.83      0.65        52\n",
      "           2       0.62      0.62      0.62        29\n",
      "           3       1.00      0.12      0.22        24\n",
      "           4       0.00      0.00      0.00        17\n",
      "           5       0.94      1.00      0.97        16\n",
      "           6       0.00      0.00      0.00        18\n",
      "           7       0.41      0.63      0.50        43\n",
      "           8       0.35      0.96      0.51        48\n",
      "           9       0.64      0.97      0.77        58\n",
      "          10       1.00      0.26      0.41        23\n",
      "          11       0.00      0.00      0.00        11\n",
      "          12       0.50      0.05      0.10        19\n",
      "          13       0.37      0.42      0.40        40\n",
      "          14       0.00      0.00      0.00        11\n",
      "          15       1.00      0.14      0.25        21\n",
      "          16       0.00      0.00      0.00        12\n",
      "          17       1.00      0.25      0.40        20\n",
      "          18       0.00      0.00      0.00        26\n",
      "          19       0.41      0.25      0.31        36\n",
      "          20       0.00      0.00      0.00        14\n",
      "          21       0.36      0.80      0.50        51\n",
      "\n",
      "    accuracy                           0.48       617\n",
      "   macro avg       0.45      0.34      0.31       617\n",
      "weighted avg       0.48      0.48      0.40       617\n",
      "\n",
      "[[ 3  0  2  0  0  0  0  0  2  3  0  0  0  0  0  0  0  0  0  0  0 18]\n",
      " [ 0 43  0  0  0  0  0  0  3  3  0  0  0  1  0  0  0  0  0  0  0  2]\n",
      " [ 1  0 18  0  0  0  0  1  5  1  0  0  0  0  0  0  0  0  0  2  0  1]\n",
      " [ 0  8  1  3  0  0  0  2  6  1  0  0  0  1  0  0  0  0  0  0  0  2]\n",
      " [ 0  3  0  0  0  0  0  3  9  0  0  0  0  2  0  0  0  0  0  0  0  0]\n",
      " [ 0  0  0  0  0 16  0  0  0  0  0  0  0  0  0  0  0  0  0  0  0  0]\n",
      " [ 0  2  3  0  0  0  0  0  5  0  0  0  0  1  0  0  0  0  0  7  0  0]\n",
      " [ 0  0  0  0  0  0  0 27  5  1  0  0  0 10  0  0  0  0  0  0  0  0]\n",
      " [ 0  1  0  0  0  0  0  1 46  0  0  0  0  0  0  0  0  0  0  0  0  0]\n",
      " [ 0  1  0  0  0  0  0  1  0 56  0  0  0  0  0  0  0  0  0  0  0  0]\n",
      " [ 0  6  0  0  0  0  0  0  6  3  6  0  0  0  0  0  0  0  0  0  0  2]\n",
      " [ 0  2  0  0  0  0  0  1  8  0  0  0  0  0  0  0  0  0  0  0  0  0]\n",
      " [ 0  0  2  0  0  0  0  2 11  0  0  0  1  0  0  0  0  0  0  3  0  0]\n",
      " [ 0  1  0  0  0  0  0 13  7  2  0  0  0 17  0  0  0  0  0  0  0  0]\n",
      " [ 0  0  0  0  1  0  0  6  1  2  0  0  0  1  0  0  0  0  0  0  0  0]\n",
      " [ 0  1  0  0  0  0  0  2  0 13  0  0  0  2  0  3  0  0  0  0  0  0]\n",
      " [ 0  5  1  0  0  0  0  0  3  3  0  0  0  0  0  0  0  0  0  0  0  0]\n",
      " [ 0  5  0  0  0  0  0  2  4  0  0  0  0  4  0  0  0  5  0  0  0  0]\n",
      " [ 0  0  0  0  0  0  0  0  2  0  0  0  0  2  0  0  0  0  0  0  0 22]\n",
      " [ 0  1  1  0  0  0  0  0  0  0  0  0  1  0  0  0  0  0  0  9  0 24]\n",
      " [ 0  0  0  0  0  1  0  3  5  0  0  0  0  3  0  0  0  0  0  1  0  1]\n",
      " [ 0  2  1  0  0  0  0  2  3  0  0  0  0  2  0  0  0  0  0  0  0 41]]\n"
     ]
    }
   ],
   "source": [
    "# ### Naive Bayes\n",
    "\n",
    "\n",
    "\n",
    "from sklearn.naive_bayes import MultinomialNB\n",
    "from sklearn.pipeline import Pipeline\n",
    "from sklearn.feature_extraction.text import TfidfTransformer\n",
    "from sklearn.feature_extraction.text import CountVectorizer\n",
    "from sklearn.metrics import accuracy_score, confusion_matrix, f1_score\n",
    "from sklearn.metrics import classification_report\n",
    "\n",
    "\n",
    "nb = Pipeline([('vect', CountVectorizer()),\n",
    "               ('tfidf', TfidfTransformer()),\n",
    "               ('clf', MultinomialNB()),\n",
    "              ])\n",
    "nb.fit(X_train, y_train)\n",
    "\n",
    "\n",
    "y_pred = nb.predict(X_test)\n",
    "predictions = nb.predict_proba(X_test)\n",
    "\n",
    "print('accuracy %s' % accuracy_score(y_pred, y_test)) \n",
    "print('f1 score %s' % f1_score(y_pred, y_test,average='weighted')) \n",
    "print (\"logloss: %0.3f \" % multiclass_logloss(y_test,predictions))\n",
    "\n",
    "print(classification_report(y_test, y_pred))\n",
    "\n",
    "print(confusion_matrix(y_test,y_pred))\n",
    "\n",
    "log_entry = pd.DataFrame([[\"MultinomialNB\",accuracy_score(y_pred, y_test),f1_score(y_pred, y_test,average='weighted')]], columns=log_cols)\n",
    "log = log.append(log_entry)\n"
   ]
  },
  {
   "cell_type": "code",
   "execution_count": 56,
   "metadata": {},
   "outputs": [
    {
     "name": "stdout",
     "output_type": "stream",
     "text": [
      "Test accuracy 0.593192868719611\n",
      "Test f1 score 0.5999503491225455\n",
      "              precision    recall  f1-score   support\n",
      "\n",
      "           0       0.26      0.82      0.39        28\n",
      "           1       0.68      0.77      0.72        52\n",
      "           2       0.55      0.59      0.57        29\n",
      "           3       0.55      0.50      0.52        24\n",
      "           4       0.81      0.76      0.79        17\n",
      "           5       1.00      1.00      1.00        16\n",
      "           6       0.63      0.67      0.65        18\n",
      "           7       0.47      0.58      0.52        43\n",
      "           8       0.62      0.83      0.71        48\n",
      "           9       0.94      0.86      0.90        58\n",
      "          10       0.82      0.61      0.70        23\n",
      "          11       0.62      0.45      0.53        11\n",
      "          12       0.68      0.68      0.68        19\n",
      "          13       0.40      0.47      0.44        40\n",
      "          14       0.36      0.36      0.36        11\n",
      "          15       0.61      0.52      0.56        21\n",
      "          16       0.20      0.08      0.12        12\n",
      "          17       0.85      0.55      0.67        20\n",
      "          18       0.67      0.08      0.14        26\n",
      "          19       0.50      0.36      0.42        36\n",
      "          20       0.92      0.86      0.89        14\n",
      "          21       0.93      0.25      0.40        51\n",
      "\n",
      "    accuracy                           0.59       617\n",
      "   macro avg       0.64      0.58      0.58       617\n",
      "weighted avg       0.66      0.59      0.59       617\n",
      "\n",
      "[[23  0  2  0  0  0  0  0  0  0  0  1  0  0  0  0  0  0  1  1  0  0]\n",
      " [ 2 40  0  0  0  0  0  1  1  2  0  0  0  4  0  1  1  0  0  0  0  0]\n",
      " [ 2  0 17  1  0  0  3  1  0  0  0  0  2  0  0  1  0  0  0  2  0  0]\n",
      " [ 1  3  2 12  0  0  0  1  1  0  0  0  0  1  0  1  0  1  0  0  0  1]\n",
      " [ 0  2  1  0 13  0  0  0  0  0  0  0  0  1  0  0  0  0  0  0  0  0]\n",
      " [ 0  0  0  0  0 16  0  0  0  0  0  0  0  0  0  0  0  0  0  0  0  0]\n",
      " [ 0  0  1  1  0  0 12  0  1  0  0  0  2  1  0  0  0  0  0  0  0  0]\n",
      " [ 0  0  0  1  0  0  0 25  3  0  0  0  0 12  0  0  1  0  0  0  1  0]\n",
      " [ 0  1  1  0  0  0  0  3 40  0  0  0  0  1  2  0  0  0  0  0  0  0]\n",
      " [ 0  1  0  0  0  0  0  1  0 50  2  0  0  0  0  3  0  1  0  0  0  0]\n",
      " [ 0  1  2  1  0  0  1  0  4  0 14  0  0  0  0  0  0  0  0  0  0  0]\n",
      " [ 0  1  0  1  0  0  1  0  2  0  0  5  0  0  0  0  1  0  0  0  0  0]\n",
      " [ 2  0  1  0  0  0  0  0  3  0  0  0 13  0  0  0  0  0  0  0  0  0]\n",
      " [ 1  0  0  0  1  0  1 10  4  0  0  1  0 19  3  0  0  0  0  0  0  0]\n",
      " [ 0  0  0  1  1  0  0  2  1  0  0  1  0  1  4  0  0  0  0  0  0  0]\n",
      " [ 0  2  0  0  0  0  0  4  0  1  1  0  0  1  0 11  1  0  0  0  0  0]\n",
      " [ 0  5  0  1  0  0  0  0  2  0  0  0  0  0  2  1  1  0  0  0  0  0]\n",
      " [ 0  2  1  2  0  0  0  2  0  0  0  0  0  2  0  0  0 11  0  0  0  0]\n",
      " [13  0  0  1  1  0  0  0  0  0  0  0  0  2  0  0  0  0  2  7  0  0]\n",
      " [19  0  1  0  0  0  1  0  0  0  0  0  2  0  0  0  0  0  0 13  0  0]\n",
      " [ 0  0  0  0  0  0  0  1  0  0  0  0  0  1  0  0  0  0  0  0 12  0]\n",
      " [27  1  2  0  0  0  0  2  2  0  0  0  0  1  0  0  0  0  0  3  0 13]]\n"
     ]
    }
   ],
   "source": [
    "# ### Linear Support Vector Machine\n",
    "\n",
    "\n",
    "\n",
    "from sklearn.svm import LinearSVC\n",
    "from sklearn.multiclass import OneVsRestClassifier\n",
    "\n",
    "\n",
    "svc = Pipeline([('vect', CountVectorizer()),\n",
    "                ('tfidf', TfidfTransformer()),\n",
    "                ('clf', OneVsRestClassifier(LinearSVC(loss='hinge',random_state=42,class_weight='balanced'))),\n",
    "               ])\n",
    "svc.fit(X_train, y_train)\n",
    "\n",
    "y_pred = svc.predict(X_test)\n",
    "print('Test accuracy %s' % accuracy_score(y_pred, y_test))\n",
    "print('Test f1 score %s' % f1_score(y_pred, y_test,average='weighted')) \n",
    "\n",
    "print(classification_report(y_test, y_pred))\n",
    "\n",
    "print(confusion_matrix(y_test,y_pred))\n",
    "\n",
    "log_entry = pd.DataFrame([[\"LinearSVC\",accuracy_score(y_pred, y_test),f1_score(y_pred, y_test,average='weighted')]], columns=log_cols)\n",
    "log = log.append(log_entry)\n"
   ]
  },
  {
   "cell_type": "code",
   "execution_count": 57,
   "metadata": {},
   "outputs": [
    {
     "name": "stdout",
     "output_type": "stream",
     "text": [
      "accuracy 0.5380875202593193\n",
      "f1 score 0.535327001211682\n",
      "              precision    recall  f1-score   support\n",
      "\n",
      "           0       0.50      0.21      0.30        28\n",
      "           1       0.88      0.58      0.70        52\n",
      "           2       0.18      0.66      0.28        29\n",
      "           3       0.50      0.54      0.52        24\n",
      "           4       0.50      0.82      0.62        17\n",
      "           5       0.94      1.00      0.97        16\n",
      "           6       0.54      0.72      0.62        18\n",
      "           7       0.61      0.47      0.53        43\n",
      "           8       0.65      0.62      0.64        48\n",
      "           9       0.94      0.84      0.89        58\n",
      "          10       0.76      0.70      0.73        23\n",
      "          11       0.35      0.64      0.45        11\n",
      "          12       0.54      0.68      0.60        19\n",
      "          13       0.60      0.38      0.46        40\n",
      "          14       0.20      0.27      0.23        11\n",
      "          15       0.52      0.57      0.55        21\n",
      "          16       0.27      0.50      0.35        12\n",
      "          17       0.52      0.55      0.54        20\n",
      "          18       1.00      0.08      0.14        26\n",
      "          19       0.42      0.31      0.35        36\n",
      "          20       0.54      1.00      0.70        14\n",
      "          21       1.00      0.24      0.38        51\n",
      "\n",
      "    accuracy                           0.54       617\n",
      "   macro avg       0.59      0.56      0.53       617\n",
      "weighted avg       0.66      0.54      0.54       617\n",
      "\n",
      "[[ 6  0 17  0  0  0  0  0  0  0  1  2  0  0  0  0  0  1  0  1  0  0]\n",
      " [ 0 30  3  1  1  0  0  2  1  1  0  0  1  0  1  2  4  4  0  0  1  0]\n",
      " [ 1  0 19  0  1  0  2  0  1  0  0  1  1  0  0  0  0  0  0  3  0  0]\n",
      " [ 2  0  3 13  0  0  0  1  1  0  0  1  0  0  0  0  0  1  0  0  2  0]\n",
      " [ 0  0  1  1 14  0  0  0  0  0  0  0  0  0  0  0  0  1  0  0  0  0]\n",
      " [ 0  0  0  0  0 16  0  0  0  0  0  0  0  0  0  0  0  0  0  0  0  0]\n",
      " [ 0  0  1  1  0  0 13  0  0  0  0  1  2  0  0  0  0  0  0  0  0  0]\n",
      " [ 0  0  0  2  1  0  2 20  3  0  0  0  1  6  3  1  2  0  0  0  2  0]\n",
      " [ 0  0  0  1  4  1  0  0 30  0  0  3  0  0  2  0  3  2  0  0  2  0]\n",
      " [ 0  0  0  0  0  0  0  0  0 49  2  0  0  0  0  6  0  1  0  0  0  0]\n",
      " [ 0  0  2  1  2  0  1  0  1  0 16  0  0  0  0  0  0  0  0  0  0  0]\n",
      " [ 1  0  0  1  0  0  1  0  0  0  0  7  0  0  0  0  1  0  0  0  0  0]\n",
      " [ 2  0  1  0  0  0  0  0  1  0  0  0 13  0  0  0  1  0  0  1  0  0]\n",
      " [ 0  0  0  0  3  0  1  6  3  1  1  3  1 15  3  0  1  0  0  0  2  0]\n",
      " [ 0  0  0  0  1  0  1  2  1  0  0  1  0  0  3  0  2  0  0  0  0  0]\n",
      " [ 0  0  0  0  0  0  0  0  0  1  1  0  1  0  2 12  2  0  0  0  2  0]\n",
      " [ 0  1  0  1  0  0  0  0  2  0  0  0  0  0  1  1  6  0  0  0  0  0]\n",
      " [ 0  2  0  3  0  0  0  0  1  0  0  0  0  2  0  0  0 11  0  0  1  0]\n",
      " [ 0  0 14  1  1  0  0  0  0  0  0  0  0  0  0  1  0  0  2  7  0  0]\n",
      " [ 0  0 19  0  0  0  2  0  0  0  0  0  4  0  0  0  0  0  0 11  0  0]\n",
      " [ 0  0  0  0  0  0  0  0  0  0  0  0  0  0  0  0  0  0  0  0 14  0]\n",
      " [ 0  1 28  0  0  0  1  2  1  0  0  1  0  2  0  0  0  0  0  3  0 12]]\n"
     ]
    }
   ],
   "source": [
    "# ### SGD Classifier\n",
    "\n",
    "\n",
    "\n",
    "from sklearn.linear_model import SGDClassifier\n",
    "\n",
    "sgd = Pipeline([('vect', CountVectorizer()),\n",
    "                ('tfidf', TfidfTransformer()),\n",
    "                ('clf', SGDClassifier(loss='hinge', penalty='l2',alpha=1e-3, random_state=42, max_iter=100, tol=None,class_weight='balanced')),\n",
    "               ])\n",
    "sgd.fit(X_train, y_train)\n",
    "\n",
    "y_pred = sgd.predict(X_test)\n",
    "print('accuracy %s' % accuracy_score(y_pred, y_test))\n",
    "print('f1 score %s' % f1_score(y_pred, y_test,average='weighted')) \n",
    "\n",
    "\n",
    "print(classification_report(y_test, y_pred))\n",
    "\n",
    "print(confusion_matrix(y_test,y_pred))\n",
    "\n",
    "log_entry = pd.DataFrame([[\"SGDClassifier\",accuracy_score(y_pred, y_test),f1_score(y_pred, y_test,average='weighted')]], columns=log_cols)\n",
    "log = log.append(log_entry)\n",
    "\n"
   ]
  },
  {
   "cell_type": "code",
   "execution_count": 59,
   "metadata": {},
   "outputs": [
    {
     "name": "stdout",
     "output_type": "stream",
     "text": [
      "accuracy 0.5769854132901134\n",
      "f1 score 0.5705393030481682\n",
      "logloss: 2.409 \n",
      "              precision    recall  f1-score   support\n",
      "\n",
      "           0       0.64      0.25      0.36        28\n",
      "           1       0.71      0.77      0.74        52\n",
      "           2       0.67      0.55      0.60        29\n",
      "           3       0.68      0.54      0.60        24\n",
      "           4       0.72      0.76      0.74        17\n",
      "           5       1.00      1.00      1.00        16\n",
      "           6       0.55      0.67      0.60        18\n",
      "           7       0.44      0.58      0.50        43\n",
      "           8       0.57      0.71      0.63        48\n",
      "           9       0.91      0.86      0.88        58\n",
      "          10       0.88      0.61      0.72        23\n",
      "          11       0.62      0.45      0.53        11\n",
      "          12       0.60      0.47      0.53        19\n",
      "          13       0.47      0.55      0.51        40\n",
      "          14       0.26      0.45      0.33        11\n",
      "          15       0.73      0.52      0.61        21\n",
      "          16       0.17      0.08      0.11        12\n",
      "          17       0.86      0.60      0.71        20\n",
      "          18       0.20      0.62      0.30        26\n",
      "          19       0.48      0.36      0.41        36\n",
      "          20       1.00      0.50      0.67        14\n",
      "          21       0.62      0.29      0.40        51\n",
      "\n",
      "    accuracy                           0.58       617\n",
      "   macro avg       0.63      0.56      0.57       617\n",
      "weighted avg       0.63      0.58      0.58       617\n",
      "\n",
      "[[ 7  0  1  0  0  0  1  1  0  0  0  1  0  0  0  0  0  0 16  1  0  0]\n",
      " [ 0 40  0  0  0  0  0  2  2  3  0  0  0  1  0  0  2  0  2  0  0  0]\n",
      " [ 1  0 16  0  0  0  3  0  2  0  0  0  1  0  0  1  0  0  1  2  0  2]\n",
      " [ 0  1  2 13  0  0  0  3  1  0  0  0  0  1  0  0  0  1  1  0  0  1]\n",
      " [ 0  2  1  0 13  0  0  0  0  0  0  0  0  1  0  0  0  0  0  0  0  0]\n",
      " [ 0  0  0  0  0 16  0  0  0  0  0  0  0  0  0  0  0  0  0  0  0  0]\n",
      " [ 0  0  0  2  0  0 12  0  1  0  0  0  2  1  0  0  0  0  0  0  0  0]\n",
      " [ 0  0  0  1  0  0  1 25  3  0  0  0  0 10  2  0  1  0  0  0  0  0]\n",
      " [ 0  1  0  0  3  0  0  3 34  0  0  0  0  1  4  0  1  0  0  0  0  1]\n",
      " [ 0  2  0  0  0  0  0  2  0 50  1  0  0  0  0  2  0  1  0  0  0  0]\n",
      " [ 0  0  1  1  0  0  0  0  3  0 14  0  0  2  0  0  0  0  0  0  0  2]\n",
      " [ 0  1  0  0  0  0  1  0  3  0  0  5  0  0  0  0  0  0  0  0  0  1]\n",
      " [ 2  0  1  0  0  0  1  2  4  0  0  0  9  0  0  0  0  0  0  0  0  0]\n",
      " [ 0  0  0  0  1  0  1  9  3  0  0  1  0 22  3  0  0  0  0  0  0  0]\n",
      " [ 0  0  0  0  1  0  0  2  1  0  0  1  0  1  5  0  0  0  0  0  0  0]\n",
      " [ 0  1  0  0  0  0  0  3  0  2  1  0  0  2  0 11  1  0  0  0  0  0]\n",
      " [ 0  5  0  0  0  0  0  1  1  0  0  0  0  0  2  1  1  0  0  1  0  0]\n",
      " [ 1  2  0  1  0  0  0  1  1  0  0  0  0  2  0  0  0 12  0  0  0  0]\n",
      " [ 0  0  0  1  0  0  0  0  0  0  0  0  0  1  0  0  0  0 16  7  0  1]\n",
      " [ 0  0  0  0  0  0  1  0  0  0  0  0  3  0  0  0  0  0 19 13  0  0]\n",
      " [ 0  0  0  0  0  0  0  1  0  0  0  0  0  2  3  0  0  0  0  0  7  1]\n",
      " [ 0  1  2  0  0  0  1  2  1  0  0  0  0  0  0  0  0  0 26  3  0 15]]\n"
     ]
    }
   ],
   "source": [
    "# ### Logistic Regression\n",
    "\n",
    "from sklearn.linear_model import LogisticRegression\n",
    "\n",
    "logreg_1 = Pipeline([('vect', CountVectorizer()),\n",
    "                ('tfidf', TfidfTransformer()),\n",
    "                ('clf', LogisticRegression(n_jobs=1, C=1e5,class_weight='balanced')),\n",
    "               ])\n",
    "logreg_1.fit(X_train, y_train)\n",
    "\n",
    "y_pred = logreg_1.predict(X_test)\n",
    "predictions = logreg_1.predict_proba(X_test)\n",
    "\n",
    "print('accuracy %s' % accuracy_score(y_pred, y_test))\n",
    "print('f1 score %s' % f1_score(y_pred, y_test,average='weighted')) \n",
    "print (\"logloss: %0.3f \" % multiclass_logloss(y_test,predictions))\n",
    "\n",
    "print(classification_report(y_test, y_pred))\n",
    "\n",
    "print(confusion_matrix(y_test,y_pred))\n",
    "\n",
    "log_entry = pd.DataFrame([[\"LogisticRegression\",accuracy_score(y_pred, y_test),f1_score(y_pred, y_test,average='weighted')]], columns=log_cols)\n",
    "log = log.append(log_entry)\n",
    "\n"
   ]
  },
  {
   "cell_type": "code",
   "execution_count": 61,
   "metadata": {},
   "outputs": [
    {
     "data": {
      "text/html": [
       "<div>\n",
       "<style scoped>\n",
       "    .dataframe tbody tr th:only-of-type {\n",
       "        vertical-align: middle;\n",
       "    }\n",
       "\n",
       "    .dataframe tbody tr th {\n",
       "        vertical-align: top;\n",
       "    }\n",
       "\n",
       "    .dataframe thead th {\n",
       "        text-align: right;\n",
       "    }\n",
       "</style>\n",
       "<table border=\"1\" class=\"dataframe\">\n",
       "  <thead>\n",
       "    <tr style=\"text-align: right;\">\n",
       "      <th></th>\n",
       "      <th>accuracy</th>\n",
       "      <th>f1_score</th>\n",
       "    </tr>\n",
       "    <tr>\n",
       "      <th>Classifier</th>\n",
       "      <th></th>\n",
       "      <th></th>\n",
       "    </tr>\n",
       "  </thead>\n",
       "  <tbody>\n",
       "    <tr>\n",
       "      <th>SGDClassifier</th>\n",
       "      <td>0.538088</td>\n",
       "      <td>0.535327</td>\n",
       "    </tr>\n",
       "    <tr>\n",
       "      <th>MultinomialNB</th>\n",
       "      <td>0.476499</td>\n",
       "      <td>0.555507</td>\n",
       "    </tr>\n",
       "    <tr>\n",
       "      <th>LogisticRegression</th>\n",
       "      <td>0.576985</td>\n",
       "      <td>0.570539</td>\n",
       "    </tr>\n",
       "    <tr>\n",
       "      <th>LogisticRegression</th>\n",
       "      <td>0.576985</td>\n",
       "      <td>0.570539</td>\n",
       "    </tr>\n",
       "    <tr>\n",
       "      <th>LinearSVC</th>\n",
       "      <td>0.593193</td>\n",
       "      <td>0.599950</td>\n",
       "    </tr>\n",
       "  </tbody>\n",
       "</table>\n",
       "</div>"
      ],
      "text/plain": [
       "                    accuracy  f1_score\n",
       "Classifier                            \n",
       "SGDClassifier       0.538088  0.535327\n",
       "MultinomialNB       0.476499  0.555507\n",
       "LogisticRegression  0.576985  0.570539\n",
       "LogisticRegression  0.576985  0.570539\n",
       "LinearSVC           0.593193  0.599950"
      ]
     },
     "execution_count": 61,
     "metadata": {},
     "output_type": "execute_result"
    }
   ],
   "source": [
    "log.set_index([\"Classifier\"],inplace=True)\n",
    "log.sort_values(by=['f1_score'])\n",
    "\n"
   ]
  },
  {
   "cell_type": "code",
   "execution_count": 62,
   "metadata": {},
   "outputs": [
    {
     "data": {
      "text/plain": [
       "<matplotlib.axes._subplots.AxesSubplot at 0x7ff2891144a8>"
      ]
     },
     "execution_count": 62,
     "metadata": {},
     "output_type": "execute_result"
    },
    {
     "data": {
      "image/png": "[encoded data removed]",
      "text/plain": [
       "<Figure size 504x432 with 1 Axes>"
      ]
     },
     "metadata": {
      "needs_background": "light"
     },
     "output_type": "display_data"
    }
   ],
   "source": [
    "log.sort_values(by=['f1_score']).plot(kind='barh',figsize=[7,6])\n"
   ]
  },
  {
   "cell_type": "code",
   "execution_count": 63,
   "metadata": {},
   "outputs": [],
   "source": [
    " ## Hyperparameter Tune GridSearchCV \n",
    "# \n",
    "# Let's tune each of the models using GridsearchCV to identify the best parameters\n"
   ]
  },
  {
   "cell_type": "code",
   "execution_count": 65,
   "metadata": {},
   "outputs": [
    {
     "name": "stdout",
     "output_type": "stream",
     "text": [
      "Fitting 5 folds for each of 10 candidates, totalling 50 fits\n"
     ]
    },
    {
     "name": "stderr",
     "output_type": "stream",
     "text": [
      "[Parallel(n_jobs=1)]: Using backend SequentialBackend with 1 concurrent workers.\n",
      "[Parallel(n_jobs=1)]: Done  50 out of  50 | elapsed:   23.8s finished\n"
     ]
    },
    {
     "name": "stdout",
     "output_type": "stream",
     "text": [
      "Best Score:  0.5864182764039391\n",
      "Best Params:  {'clf__estimator__C': 1, 'clf__estimator__loss': 'squared_hinge'}\n"
     ]
    }
   ],
   "source": [
    "# ### Linear SVC\n",
    "\n",
    "\n",
    "\n",
    "\n",
    "from sklearn.model_selection import GridSearchCV\n",
    "\n",
    "params = {\"clf__estimator__C\": [0.1, 1, 10, 100, 1000],  \n",
    "              'clf__estimator__loss': ['hinge','squared_hinge'],}  \n",
    "  \n",
    "clf_svc = GridSearchCV(svc, param_grid=params, refit = True, verbose = 1,scoring='f1_weighted') \n",
    "# fitting the model for grid search \n",
    "clf_svc.fit(X_train, y_train)\n",
    "\n",
    "print(\"Best Score: \", clf_svc.best_score_)\n",
    "print(\"Best Params: \", clf_svc.best_params_)\n"
   ]
  },
  {
   "cell_type": "code",
   "execution_count": 66,
   "metadata": {},
   "outputs": [
    {
     "name": "stdout",
     "output_type": "stream",
     "text": [
      "accuracy 0.593192868719611\n",
      "f1 score 0.5913354430373698\n",
      "              precision    recall  f1-score   support\n",
      "\n",
      "           0       0.57      0.29      0.38        28\n",
      "           1       0.69      0.79      0.74        52\n",
      "           2       0.57      0.59      0.58        29\n",
      "           3       0.57      0.54      0.55        24\n",
      "           4       0.81      0.76      0.79        17\n",
      "           5       1.00      1.00      1.00        16\n",
      "           6       0.55      0.67      0.60        18\n",
      "           7       0.46      0.58      0.52        43\n",
      "           8       0.62      0.83      0.71        48\n",
      "           9       0.94      0.84      0.89        58\n",
      "          10       0.81      0.57      0.67        23\n",
      "          11       0.62      0.45      0.53        11\n",
      "          12       0.68      0.68      0.68        19\n",
      "          13       0.49      0.50      0.49        40\n",
      "          14       0.33      0.36      0.35        11\n",
      "          15       0.63      0.57      0.60        21\n",
      "          16       0.20      0.08      0.12        12\n",
      "          17       0.85      0.55      0.67        20\n",
      "          18       0.20      0.62      0.30        26\n",
      "          19       0.48      0.33      0.39        36\n",
      "          20       0.92      0.86      0.89        14\n",
      "          21       0.93      0.25      0.40        51\n",
      "\n",
      "    accuracy                           0.59       617\n",
      "   macro avg       0.63      0.58      0.58       617\n",
      "weighted avg       0.65      0.59      0.60       617\n",
      "\n",
      "[[ 8  0  1  0  0  0  1  0  0  0  0  1  0  0  0  0  0  0 16  1  0  0]\n",
      " [ 0 41  0  0  0  0  0  1  1  2  0  0  0  3  0  1  1  0  2  0  0  0]\n",
      " [ 2  0 17  1  0  0  3  1  0  0  0  0  1  0  0  1  0  0  1  2  0  0]\n",
      " [ 0  2  2 13  0  0  0  2  1  0  0  0  0  1  0  0  0  1  1  0  0  1]\n",
      " [ 0  2  1  0 13  0  0  0  0  0  0  0  0  1  0  0  0  0  0  0  0  0]\n",
      " [ 0  0  0  0  0 16  0  0  0  0  0  0  0  0  0  0  0  0  0  0  0  0]\n",
      " [ 0  0  1  1  0  0 12  0  1  0  0  0  2  0  0  0  0  0  1  0  0  0]\n",
      " [ 0  0  0  1  0  0  1 25  3  0  0  0  1 10  0  0  1  0  0  0  1  0]\n",
      " [ 0  1  1  0  0  0  0  3 40  0  0  0  0  1  2  0  0  0  0  0  0  0]\n",
      " [ 0  1  0  0  0  0  0  2  0 49  2  0  0  0  0  3  0  1  0  0  0  0]\n",
      " [ 1  1  2  1  0  0  1  0  4  0 13  0  0  0  0  0  0  0  0  0  0  0]\n",
      " [ 0  1  0  1  0  0  1  0  2  0  0  5  0  0  0  0  1  0  0  0  0  0]\n",
      " [ 2  0  1  0  0  0  0  0  3  0  0  0 13  0  0  0  0  0  0  0  0  0]\n",
      " [ 0  0  0  0  1  0  1 10  4  0  0  1  0 20  3  0  0  0  0  0  0  0]\n",
      " [ 0  0  0  1  1  0  0  3  1  0  0  1  0  0  4  0  0  0  0  0  0  0]\n",
      " [ 0  1  0  0  0  0  0  3  0  1  1  0  0  1  1 12  1  0  0  0  0  0]\n",
      " [ 0  5  0  1  0  0  0  0  2  0  0  0  0  0  2  1  1  0  0  0  0  0]\n",
      " [ 0  3  1  2  0  0  0  1  0  0  0  0  0  2  0  0  0 11  0  0  0  0]\n",
      " [ 0  0  0  1  1  0  0  0  0  0  0  0  0  0  0  1  0  0 16  7  0  0]\n",
      " [ 0  0  1  0  0  0  2  0  0  0  0  0  2  0  0  0  0  0 19 12  0  0]\n",
      " [ 0  0  0  0  0  0  0  1  0  0  0  0  0  1  0  0  0  0  0  0 12  0]\n",
      " [ 1  1  2  0  0  0  0  2  2  0  0  0  0  1  0  0  0  0 26  3  0 13]]\n"
     ]
    }
   ],
   "source": [
    "y_pred = clf_svc.best_estimator_.predict(X_test)\n",
    "#predictions = clf_svc.best_estimator_.predict_proba(X_test)\n",
    "\n",
    "print('accuracy %s' % accuracy_score(y_pred, y_test))\n",
    "print('f1 score %s' % f1_score(y_pred, y_test,average='weighted')) \n",
    "#print (\"logloss: %0.3f \" % multiclass_logloss(y_test,predictions))\n",
    "\n",
    "print(classification_report(y_test, y_pred))\n",
    "\n",
    "print(confusion_matrix(y_test,y_pred))\n",
    "\n",
    "log_entry = pd.DataFrame([[\"LinearSVC_best_estimator\",accuracy_score(y_pred, y_test),f1_score(y_pred, y_test,average='weighted')]], columns=log_cols,index=['LinearSVC_best_estimator'])\n",
    "log = log.append(log_entry)\n"
   ]
  },
  {
   "cell_type": "code",
   "execution_count": 67,
   "metadata": {},
   "outputs": [
    {
     "name": "stdout",
     "output_type": "stream",
     "text": [
      "Fitting 5 folds for each of 48 candidates, totalling 240 fits\n"
     ]
    },
    {
     "name": "stderr",
     "output_type": "stream",
     "text": [
      "[Parallel(n_jobs=1)]: Using backend SequentialBackend with 1 concurrent workers.\n",
      "[Parallel(n_jobs=1)]: Done 240 out of 240 | elapsed:  1.6min finished\n"
     ]
    },
    {
     "name": "stdout",
     "output_type": "stream",
     "text": [
      "Best Score:  0.5911779636488127\n",
      "Best Params:  {'clf__alpha': 0.0001, 'clf__loss': 'log', 'clf__penalty': 'l2'}\n"
     ]
    }
   ],
   "source": [
    "# ### SGD Classifier\n",
    "\n",
    "\n",
    "\n",
    "\n",
    "params = {\n",
    "    \"clf__loss\" : [\"hinge\", \"log\", \"squared_hinge\", \"modified_huber\"],\n",
    "    \"clf__alpha\" : [0.0001, 0.001, 0.01, 0.1],\n",
    "    \"clf__penalty\" : [\"l2\", \"l1\", \"none\"],\n",
    "}\n",
    "\n",
    "clf_sgd = GridSearchCV(sgd, param_grid=params,refit = True, verbose = 1,scoring='f1_weighted')\n",
    "clf_sgd.fit(X_train, y_train)\n",
    "\n",
    "print(\"Best Score: \", clf_sgd.best_score_)\n",
    "print(\"Best Params: \", clf_sgd.best_params_)\n"
   ]
  },
  {
   "cell_type": "code",
   "execution_count": 68,
   "metadata": {},
   "outputs": [
    {
     "name": "stdout",
     "output_type": "stream",
     "text": [
      "accuracy 0.6142625607779578\n",
      "f1 score 0.6250327734532034\n",
      "              precision    recall  f1-score   support\n",
      "\n",
      "           0       0.70      0.25      0.37        28\n",
      "           1       0.74      0.71      0.73        52\n",
      "           2       0.51      0.66      0.58        29\n",
      "           3       0.61      0.58      0.60        24\n",
      "           4       0.65      0.76      0.70        17\n",
      "           5       0.94      1.00      0.97        16\n",
      "           6       0.55      0.61      0.58        18\n",
      "           7       0.55      0.56      0.55        43\n",
      "           8       0.72      0.79      0.75        48\n",
      "           9       0.94      0.86      0.90        58\n",
      "          10       0.83      0.65      0.73        23\n",
      "          11       0.46      0.55      0.50        11\n",
      "          12       0.62      0.68      0.65        19\n",
      "          13       0.44      0.53      0.48        40\n",
      "          14       0.38      0.45      0.42        11\n",
      "          15       0.58      0.67      0.62        21\n",
      "          16       0.25      0.17      0.20        12\n",
      "          17       0.75      0.60      0.67        20\n",
      "          18       0.67      0.08      0.14        26\n",
      "          19       0.46      0.31      0.37        36\n",
      "          20       0.92      0.86      0.89        14\n",
      "          21       0.42      0.73      0.53        51\n",
      "\n",
      "    accuracy                           0.61       617\n",
      "   macro avg       0.62      0.59      0.59       617\n",
      "weighted avg       0.64      0.61      0.60       617\n",
      "\n",
      "[[ 7  0  3  0  0  0  0  0  0  0  0  1  0  0  0  0  0  0  1  1  0 15]\n",
      " [ 0 37  0  0  0  0  0  1  1  1  0  0  1  3  0  2  2  2  0  0  0  2]\n",
      " [ 1  0 19  0  0  0  2  0  1  0  0  0  2  0  0  1  0  0  0  2  0  1]\n",
      " [ 0  1  2 14  0  0  0  2  1  0  0  0  0  1  0  0  0  1  0  0  0  2]\n",
      " [ 0  2  1  0 13  0  0  0  0  0  0  0  0  1  0  0  0  0  0  0  0  0]\n",
      " [ 0  0  0  0  0 16  0  0  0  0  0  0  0  0  0  0  0  0  0  0  0  0]\n",
      " [ 0  0  2  2  0  0 11  0  0  0  0  1  1  1  0  0  0  0  0  0  0  0]\n",
      " [ 0  0  0  1  0  0  1 24  3  0  0  0  1 11  0  0  1  0  0  0  1  0]\n",
      " [ 0  1  0  0  2  1  0  2 38  0  0  1  0  0  2  0  1  0  0  0  0  0]\n",
      " [ 0  0  0  0  0  0  0  0  0 50  2  0  0  0  0  5  0  1  0  0  0  0]\n",
      " [ 0  0  2  1  1  0  0  0  1  0 15  1  0  2  0  0  0  0  0  0  0  0]\n",
      " [ 0  1  1  0  0  0  1  0  1  0  0  6  0  0  0  0  1  0  0  0  0  0]\n",
      " [ 2  0  1  0  0  0  1  0  2  0  0  0 13  0  0  0  0  0  0  0  0  0]\n",
      " [ 0  0  0  1  1  0  1  7  2  1  1  2  0 21  3  0  0  0  0  0  0  0]\n",
      " [ 0  0  0  0  1  0  0  2  1  0  0  1  0  1  5  0  0  0  0  0  0  0]\n",
      " [ 0  1  0  0  0  0  0  1  0  1  0  0  0  2  1 14  1  0  0  0  0  0]\n",
      " [ 0  4  1  0  0  0  0  1  1  0  0  0  0  0  2  1  2  0  0  0  0  0]\n",
      " [ 0  2  1  2  0  0  0  1  0  0  0  0  0  2  0  0  0 12  0  0  0  0]\n",
      " [ 0  0  0  1  1  0  0  0  0  0  0  0  0  1  0  1  0  0  2  7  0 13]\n",
      " [ 0  0  1  0  0  0  2  0  0  0  0  0  3  0  0  0  0  0  0 11  0 19]\n",
      " [ 0  0  0  1  0  0  0  1  0  0  0  0  0  0  0  0  0  0  0  0 12  0]\n",
      " [ 0  1  3  0  1  0  1  2  1  0  0  0  0  2  0  0  0  0  0  3  0 37]]\n"
     ]
    }
   ],
   "source": [
    "y_pred = clf_sgd.best_estimator_.predict(X_test)\n",
    "#predictions = clf_svc.best_estimator_.predict_proba(X_test)\n",
    "\n",
    "print('accuracy %s' % accuracy_score(y_pred, y_test))\n",
    "print('f1 score %s' % f1_score(y_pred, y_test,average='weighted')) \n",
    "#print (\"logloss: %0.3f \" % multiclass_logloss(y_test,predictions))\n",
    "\n",
    "print(classification_report(y_test, y_pred))\n",
    "\n",
    "print(confusion_matrix(y_test,y_pred))\n",
    "\n",
    "log_entry = pd.DataFrame([[\"SGD_best_estimator\",accuracy_score(y_pred, y_test),f1_score(y_pred, y_test,average='weighted')]], columns=log_cols,index=['SGD_best_estimator'])\n",
    "log = log.append(log_entry)"
   ]
  },
  {
   "cell_type": "code",
   "execution_count": 69,
   "metadata": {},
   "outputs": [
    {
     "name": "stdout",
     "output_type": "stream",
     "text": [
      "Fitting 5 folds for each of 30 candidates, totalling 150 fits\n"
     ]
    },
    {
     "name": "stderr",
     "output_type": "stream",
     "text": [
      "[Parallel(n_jobs=1)]: Using backend SequentialBackend with 1 concurrent workers.\n",
      "[Parallel(n_jobs=1)]: Done 150 out of 150 | elapsed: 16.5min finished\n"
     ]
    },
    {
     "name": "stdout",
     "output_type": "stream",
     "text": [
      "Best Score:  0.5825739734316713\n",
      "Best Params:  {'clf__C': 100.0, 'clf__max_iter': 4000, 'clf__penalty': 'l2'}\n"
     ]
    }
   ],
   "source": [
    "# ### Logistic Regression\n",
    "\n",
    "\n",
    "\n",
    "params = {\n",
    "  'clf__penalty': ['l2'],\n",
    "  'clf__C': [1e-6, 1e-5, 1e-4, 1e-3, 1e-2, 1e-1, 1e0,1e2,1e4,1e5],\n",
    "  'clf__max_iter': [100,4000,5000],\n",
    "}\n",
    "\n",
    "clf_lr = GridSearchCV(logreg_1, param_grid=params,refit = True,verbose = 1,scoring='f1_weighted')\n",
    "clf_lr.fit(X_train, y_train)\n",
    "\n",
    "print(\"Best Score: \", clf_lr.best_score_)\n",
    "print(\"Best Params: \", clf_lr.best_params_)\n"
   ]
  },
  {
   "cell_type": "code",
   "execution_count": 70,
   "metadata": {},
   "outputs": [
    {
     "name": "stdout",
     "output_type": "stream",
     "text": [
      "accuracy 0.580226904376013\n",
      "f1 score 0.5757777878445178\n",
      "              precision    recall  f1-score   support\n",
      "\n",
      "           0       0.73      0.29      0.41        28\n",
      "           1       0.68      0.77      0.72        52\n",
      "           2       0.56      0.66      0.60        29\n",
      "           3       0.57      0.50      0.53        24\n",
      "           4       0.72      0.76      0.74        17\n",
      "           5       1.00      1.00      1.00        16\n",
      "           6       0.57      0.67      0.62        18\n",
      "           7       0.48      0.56      0.52        43\n",
      "           8       0.61      0.75      0.67        48\n",
      "           9       0.94      0.84      0.89        58\n",
      "          10       0.88      0.61      0.72        23\n",
      "          11       0.60      0.55      0.57        11\n",
      "          12       0.67      0.63      0.65        19\n",
      "          13       0.43      0.50      0.46        40\n",
      "          14       0.24      0.45      0.31        11\n",
      "          15       0.67      0.57      0.62        21\n",
      "          16       0.17      0.08      0.11        12\n",
      "          17       0.79      0.55      0.65        20\n",
      "          18       0.19      0.58      0.28        26\n",
      "          19       0.52      0.36      0.43        36\n",
      "          20       1.00      0.64      0.78        14\n",
      "          21       0.92      0.22      0.35        51\n",
      "\n",
      "    accuracy                           0.58       617\n",
      "   macro avg       0.63      0.57      0.57       617\n",
      "weighted avg       0.65      0.58      0.58       617\n",
      "\n",
      "[[ 8  0  1  0  0  0  1  0  0  0  0  1  0  0  0  0  0  0 16  1  0  0]\n",
      " [ 0 40  0  0  0  0  0  1  2  2  0  0  0  1  0  1  2  1  2  0  0  0]\n",
      " [ 2  0 19  0  0  0  3  0  1  0  0  0  1  0  0  1  0  0  1  1  0  0]\n",
      " [ 0  2  2 12  0  0  0  2  1  0  0  0  0  1  1  0  0  1  1  0  0  1]\n",
      " [ 0  2  1  0 13  0  0  0  0  0  0  0  0  1  0  0  0  0  0  0  0  0]\n",
      " [ 0  0  0  0  0 16  0  0  0  0  0  0  0  0  0  0  0  0  0  0  0  0]\n",
      " [ 0  0  1  2  0  0 12  0  0  0  0  1  1  1  0  0  0  0  0  0  0  0]\n",
      " [ 0  0  0  1  0  0  1 24  3  0  0  0  1 10  2  0  1  0  0  0  0  0]\n",
      " [ 0  2  0  0  2  0  0  3 36  0  0  0  0  1  4  0  0  0  0  0  0  0]\n",
      " [ 0  1  0  0  0  0  0  2  0 49  1  0  0  0  0  4  0  1  0  0  0  0]\n",
      " [ 0  0  2  1  0  0  0  0  4  0 14  0  0  2  0  0  0  0  0  0  0  0]\n",
      " [ 0  1  0  1  0  0  1  0  1  0  0  6  0  0  0  0  1  0  0  0  0  0]\n",
      " [ 1  0  2  0  0  0  0  1  3  0  0  0 12  0  0  0  0  0  0  0  0  0]\n",
      " [ 0  0  0  0  1  0  1  9  3  0  0  1  1 20  4  0  0  0  0  0  0  0]\n",
      " [ 0  0  0  1  1  0  0  2  1  0  0  0  0  1  5  0  0  0  0  0  0  0]\n",
      " [ 0  1  0  0  0  0  0  3  0  1  1  0  0  1  1 12  1  0  0  0  0  0]\n",
      " [ 0  6  1  0  0  0  0  0  2  0  0  0  0  0  2  0  1  0  0  0  0  0]\n",
      " [ 0  3  1  2  0  0  0  1  0  0  0  0  0  2  0  0  0 11  0  0  0  0]\n",
      " [ 0  0  0  1  1  0  0  0  0  0  0  0  0  2  0  0  0  0 15  7  0  0]\n",
      " [ 0  0  1  0  0  0  1  0  0  0  0  0  2  0  0  0  0  0 19 13  0  0]\n",
      " [ 0  0  0  0  0  0  0  0  0  0  0  1  0  2  2  0  0  0  0  0  9  0]\n",
      " [ 0  1  3  0  0  0  1  2  2  0  0  0  0  2  0  0  0  0 26  3  0 11]]\n"
     ]
    }
   ],
   "source": [
    "y_pred = clf_lr.best_estimator_.predict(X_test)\n",
    "#predictions = clf_svc.best_estimator_.predict_proba(X_test)\n",
    "\n",
    "print('accuracy %s' % accuracy_score(y_pred, y_test))\n",
    "print('f1 score %s' % f1_score(y_pred, y_test,average='weighted')) \n",
    "#print (\"logloss: %0.3f \" % multiclass_logloss(y_test,predictions))\n",
    "\n",
    "print(classification_report(y_test, y_pred))\n",
    "\n",
    "print(confusion_matrix(y_test,y_pred))\n",
    "\n",
    "log_entry = pd.DataFrame([[\"LogisticRegression_best_estimator\",accuracy_score(y_pred, y_test),f1_score(y_pred, y_test,average='weighted')]], columns=log_cols,index=['LogisticRegression_best_estimator'])\n",
    "log = log.append(log_entry)\n"
   ]
  },
  {
   "cell_type": "code",
   "execution_count": 71,
   "metadata": {},
   "outputs": [
    {
     "data": {
      "text/html": [
       "<div>\n",
       "<style scoped>\n",
       "    .dataframe tbody tr th:only-of-type {\n",
       "        vertical-align: middle;\n",
       "    }\n",
       "\n",
       "    .dataframe tbody tr th {\n",
       "        vertical-align: top;\n",
       "    }\n",
       "\n",
       "    .dataframe thead th {\n",
       "        text-align: right;\n",
       "    }\n",
       "</style>\n",
       "<table border=\"1\" class=\"dataframe\">\n",
       "  <thead>\n",
       "    <tr style=\"text-align: right;\">\n",
       "      <th></th>\n",
       "      <th>accuracy</th>\n",
       "      <th>f1_score</th>\n",
       "      <th>Classifier</th>\n",
       "    </tr>\n",
       "  </thead>\n",
       "  <tbody>\n",
       "    <tr>\n",
       "      <th>SGDClassifier</th>\n",
       "      <td>0.538088</td>\n",
       "      <td>0.535327</td>\n",
       "      <td>NaN</td>\n",
       "    </tr>\n",
       "    <tr>\n",
       "      <th>MultinomialNB</th>\n",
       "      <td>0.476499</td>\n",
       "      <td>0.555507</td>\n",
       "      <td>NaN</td>\n",
       "    </tr>\n",
       "    <tr>\n",
       "      <th>LogisticRegression</th>\n",
       "      <td>0.576985</td>\n",
       "      <td>0.570539</td>\n",
       "      <td>NaN</td>\n",
       "    </tr>\n",
       "    <tr>\n",
       "      <th>LogisticRegression</th>\n",
       "      <td>0.576985</td>\n",
       "      <td>0.570539</td>\n",
       "      <td>NaN</td>\n",
       "    </tr>\n",
       "    <tr>\n",
       "      <th>LogisticRegression_best_estimator</th>\n",
       "      <td>0.580227</td>\n",
       "      <td>0.575778</td>\n",
       "      <td>LogisticRegression_best_estimator</td>\n",
       "    </tr>\n",
       "    <tr>\n",
       "      <th>LinearSVC_best_estimator</th>\n",
       "      <td>0.593193</td>\n",
       "      <td>0.591335</td>\n",
       "      <td>LinearSVC_best_estimator</td>\n",
       "    </tr>\n",
       "    <tr>\n",
       "      <th>LinearSVC</th>\n",
       "      <td>0.593193</td>\n",
       "      <td>0.599950</td>\n",
       "      <td>NaN</td>\n",
       "    </tr>\n",
       "    <tr>\n",
       "      <th>SGD_best_estimator</th>\n",
       "      <td>0.614263</td>\n",
       "      <td>0.625033</td>\n",
       "      <td>SGD_best_estimator</td>\n",
       "    </tr>\n",
       "  </tbody>\n",
       "</table>\n",
       "</div>"
      ],
      "text/plain": [
       "                                   accuracy  f1_score  \\\n",
       "SGDClassifier                      0.538088  0.535327   \n",
       "MultinomialNB                      0.476499  0.555507   \n",
       "LogisticRegression                 0.576985  0.570539   \n",
       "LogisticRegression                 0.576985  0.570539   \n",
       "LogisticRegression_best_estimator  0.580227  0.575778   \n",
       "LinearSVC_best_estimator           0.593193  0.591335   \n",
       "LinearSVC                          0.593193  0.599950   \n",
       "SGD_best_estimator                 0.614263  0.625033   \n",
       "\n",
       "                                                          Classifier  \n",
       "SGDClassifier                                                    NaN  \n",
       "MultinomialNB                                                    NaN  \n",
       "LogisticRegression                                               NaN  \n",
       "LogisticRegression                                               NaN  \n",
       "LogisticRegression_best_estimator  LogisticRegression_best_estimator  \n",
       "LinearSVC_best_estimator                    LinearSVC_best_estimator  \n",
       "LinearSVC                                                        NaN  \n",
       "SGD_best_estimator                                SGD_best_estimator  "
      ]
     },
     "execution_count": 71,
     "metadata": {},
     "output_type": "execute_result"
    }
   ],
   "source": [
    "log.sort_values(by=['f1_score'])\n"
   ]
  },
  {
   "cell_type": "code",
   "execution_count": 72,
   "metadata": {},
   "outputs": [
    {
     "data": {
      "text/plain": [
       "<matplotlib.axes._subplots.AxesSubplot at 0x7ff2b9c484a8>"
      ]
     },
     "execution_count": 72,
     "metadata": {},
     "output_type": "execute_result"
    },
    {
     "data": {
      "image/png": "[encoded data removed]",
      "text/plain": [
       "<Figure size 504x432 with 1 Axes>"
      ]
     },
     "metadata": {
      "needs_background": "light"
     },
     "output_type": "display_data"
    }
   ],
   "source": [
    "log.sort_values(by=['f1_score']).plot(kind='barh',figsize=[7,6])\n"
   ]
  },
  {
   "cell_type": "code",
   "execution_count": 73,
   "metadata": {},
   "outputs": [],
   "source": [
    "from tensorflow import keras\n",
    "\n",
    "\n",
    "class FocalLoss(keras.losses.Loss):\n",
    "    def __init__(self, gamma=2., alpha=4.,\n",
    "                 reduction=keras.losses.Reduction.AUTO, name='focal_loss'):\n",
    "        \"\"\"Focal loss for multi-classification\n",
    "        FL(p_t)=-alpha(1-p_t)^{gamma}ln(p_t)\n",
    "        Notice: y_pred is probability after softmax\n",
    "        gradient is d(Fl)/d(p_t) not d(Fl)/d(x) as described in paper\n",
    "        d(Fl)/d(p_t) * [p_t(1-p_t)] = d(Fl)/d(x)\n",
    "        Focal Loss for Dense Object Detection\n",
    "        https://arxiv.org/abs/1708.02002\n",
    "\n",
    "        Keyword Arguments:\n",
    "            gamma {float} -- (default: {2.0})\n",
    "            alpha {float} -- (default: {4.0})\n",
    "        \"\"\"\n",
    "        super(FocalLoss, self).__init__(reduction=reduction,\n",
    "                                        name=name)\n",
    "        self.gamma = float(gamma)\n",
    "        self.alpha = float(alpha)\n",
    "\n",
    "    def call(self, y_true, y_pred):\n",
    "        \"\"\"\n",
    "        Arguments:\n",
    "            y_true {tensor} -- ground truth labels, shape of [batch_size, num_cls]\n",
    "            y_pred {tensor} -- model's output, shape of [batch_size, num_cls]\n",
    "\n",
    "        Returns:\n",
    "            [tensor] -- loss.\n",
    "        \"\"\"\n",
    "        epsilon = 1.e-9\n",
    "        y_true = tf.convert_to_tensor(y_true, tf.float32)\n",
    "        y_pred = tf.convert_to_tensor(y_pred, tf.float32)\n",
    "\n",
    "        model_out = tf.add(y_pred, epsilon)\n",
    "        ce = tf.multiply(y_true, -tf.math.log(model_out))\n",
    "        weight = tf.multiply(y_true, tf.pow(\n",
    "            tf.subtract(1., model_out), self.gamma))\n",
    "        fl = tf.multiply(self.alpha, tf.multiply(weight, ce))\n",
    "        reduced_fl = tf.reduce_max(fl, axis=1)\n",
    "        return reduced_fl\n"
   ]
  },
  {
   "cell_type": "code",
   "execution_count": 74,
   "metadata": {},
   "outputs": [
    {
     "name": "stderr",
     "output_type": "stream",
     "text": [
      "Using TensorFlow backend.\n"
     ]
    },
    {
     "ename": "ImportError",
     "evalue": "cannot import name 'parse_version'",
     "output_type": "error",
     "traceback": [
      "\u001b[0;31m---------------------------------------------------------------------------\u001b[0m",
      "\u001b[0;31mImportError\u001b[0m                               Traceback (most recent call last)",
      "\u001b[0;32m<ipython-input-74-a027a1e5b9a0>\u001b[0m in \u001b[0;36m<module>\u001b[0;34m\u001b[0m\n\u001b[1;32m      3\u001b[0m \u001b[0;32mfrom\u001b[0m \u001b[0mkeras\u001b[0m\u001b[0;34m.\u001b[0m\u001b[0mlayers\u001b[0m \u001b[0;32mimport\u001b[0m \u001b[0mActivation\u001b[0m\u001b[0;34m,\u001b[0m \u001b[0mDense\u001b[0m\u001b[0;34m,\u001b[0m \u001b[0mDropout\u001b[0m\u001b[0;34m\u001b[0m\u001b[0;34m\u001b[0m\u001b[0m\n\u001b[1;32m      4\u001b[0m \u001b[0;32mfrom\u001b[0m \u001b[0msklearn\u001b[0m\u001b[0;34m.\u001b[0m\u001b[0mpreprocessing\u001b[0m \u001b[0;32mimport\u001b[0m \u001b[0mLabelBinarizer\u001b[0m\u001b[0;34m\u001b[0m\u001b[0;34m\u001b[0m\u001b[0m\n\u001b[0;32m----> 5\u001b[0;31m \u001b[0;32mimport\u001b[0m \u001b[0msklearn\u001b[0m\u001b[0;34m.\u001b[0m\u001b[0mdatasets\u001b[0m \u001b[0;32mas\u001b[0m \u001b[0mskds\u001b[0m\u001b[0;34m\u001b[0m\u001b[0;34m\u001b[0m\u001b[0m\n\u001b[0m\u001b[1;32m      6\u001b[0m \u001b[0;32mfrom\u001b[0m \u001b[0mpathlib\u001b[0m \u001b[0;32mimport\u001b[0m \u001b[0mPath\u001b[0m\u001b[0;34m\u001b[0m\u001b[0;34m\u001b[0m\u001b[0m\n\u001b[1;32m      7\u001b[0m \u001b[0;32mimport\u001b[0m \u001b[0mtensorflow\u001b[0m \u001b[0;32mas\u001b[0m \u001b[0mtf\u001b[0m\u001b[0;34m\u001b[0m\u001b[0;34m\u001b[0m\u001b[0m\n",
      "\u001b[0;32m~/anaconda3/lib/python3.6/site-packages/sklearn/datasets/__init__.py\u001b[0m in \u001b[0;36m<module>\u001b[0;34m\u001b[0m\n\u001b[1;32m     18\u001b[0m \u001b[0;32mfrom\u001b[0m \u001b[0;34m.\u001b[0m\u001b[0m_covtype\u001b[0m \u001b[0;32mimport\u001b[0m \u001b[0mfetch_covtype\u001b[0m\u001b[0;34m\u001b[0m\u001b[0;34m\u001b[0m\u001b[0m\n\u001b[1;32m     19\u001b[0m \u001b[0;32mfrom\u001b[0m \u001b[0;34m.\u001b[0m\u001b[0m_kddcup99\u001b[0m \u001b[0;32mimport\u001b[0m \u001b[0mfetch_kddcup99\u001b[0m\u001b[0;34m\u001b[0m\u001b[0;34m\u001b[0m\u001b[0m\n\u001b[0;32m---> 20\u001b[0;31m \u001b[0;32mfrom\u001b[0m \u001b[0;34m.\u001b[0m\u001b[0m_lfw\u001b[0m \u001b[0;32mimport\u001b[0m \u001b[0mfetch_lfw_pairs\u001b[0m\u001b[0;34m\u001b[0m\u001b[0;34m\u001b[0m\u001b[0m\n\u001b[0m\u001b[1;32m     21\u001b[0m \u001b[0;32mfrom\u001b[0m \u001b[0;34m.\u001b[0m\u001b[0m_lfw\u001b[0m \u001b[0;32mimport\u001b[0m \u001b[0mfetch_lfw_people\u001b[0m\u001b[0;34m\u001b[0m\u001b[0;34m\u001b[0m\u001b[0m\n\u001b[1;32m     22\u001b[0m \u001b[0;32mfrom\u001b[0m \u001b[0;34m.\u001b[0m\u001b[0m_twenty_newsgroups\u001b[0m \u001b[0;32mimport\u001b[0m \u001b[0mfetch_20newsgroups\u001b[0m\u001b[0;34m\u001b[0m\u001b[0;34m\u001b[0m\u001b[0m\n",
      "\u001b[0;32m~/anaconda3/lib/python3.6/site-packages/sklearn/datasets/_lfw.py\u001b[0m in \u001b[0;36m<module>\u001b[0;34m\u001b[0m\n\u001b[1;32m     21\u001b[0m \u001b[0;32mfrom\u001b[0m \u001b[0;34m.\u001b[0m\u001b[0;34m.\u001b[0m\u001b[0mutils\u001b[0m \u001b[0;32mimport\u001b[0m \u001b[0mBunch\u001b[0m\u001b[0;34m\u001b[0m\u001b[0;34m\u001b[0m\u001b[0m\n\u001b[1;32m     22\u001b[0m \u001b[0;32mfrom\u001b[0m \u001b[0;34m.\u001b[0m\u001b[0;34m.\u001b[0m\u001b[0mutils\u001b[0m\u001b[0;34m.\u001b[0m\u001b[0mvalidation\u001b[0m \u001b[0;32mimport\u001b[0m \u001b[0m_deprecate_positional_args\u001b[0m\u001b[0;34m\u001b[0m\u001b[0;34m\u001b[0m\u001b[0m\n\u001b[0;32m---> 23\u001b[0;31m \u001b[0;32mfrom\u001b[0m \u001b[0;34m.\u001b[0m\u001b[0;34m.\u001b[0m\u001b[0mutils\u001b[0m\u001b[0;34m.\u001b[0m\u001b[0mfixes\u001b[0m \u001b[0;32mimport\u001b[0m \u001b[0mparse_version\u001b[0m\u001b[0;34m\u001b[0m\u001b[0;34m\u001b[0m\u001b[0m\n\u001b[0m\u001b[1;32m     24\u001b[0m \u001b[0;34m\u001b[0m\u001b[0m\n\u001b[1;32m     25\u001b[0m \u001b[0mlogger\u001b[0m \u001b[0;34m=\u001b[0m \u001b[0mlogging\u001b[0m\u001b[0;34m.\u001b[0m\u001b[0mgetLogger\u001b[0m\u001b[0;34m(\u001b[0m\u001b[0m__name__\u001b[0m\u001b[0;34m)\u001b[0m\u001b[0;34m\u001b[0m\u001b[0;34m\u001b[0m\u001b[0m\n",
      "\u001b[0;31mImportError\u001b[0m: cannot import name 'parse_version'"
     ]
    }
   ],
   "source": [
    "from keras.preprocessing.text import Tokenizer\n",
    "from keras.models import Sequential\n",
    "from keras.layers import Activation, Dense, Dropout\n",
    "from sklearn.preprocessing import LabelBinarizer\n",
    "import sklearn.datasets as skds\n",
    "from pathlib import Path\n",
    "import tensorflow as tf\n",
    "\n",
    "x = df_incidents_l3['token_desc']\n",
    "y = df_incidents_l3['Assignment_group']\n",
    "\n",
    "from sklearn.model_selection import train_test_split\n",
    "X_train, X_test, y_train, y_test = train_test_split(x, y, test_size= 0.3, random_state=13,stratify=y)\n",
    "\n",
    "num_labels = 22\n",
    "vocab_size = 50000\n",
    "batch_size = 64\n",
    " \n",
    "# define Tokenizer with Vocab Size\n",
    "tokenizer = Tokenizer(num_words=vocab_size)\n",
    "tokenizer.fit_on_texts(X_train)\n",
    " \n",
    "x_train = tokenizer.texts_to_matrix(X_train, mode='tfidf')\n",
    "x_test = tokenizer.texts_to_matrix(X_test, mode='tfidf')\n",
    "\n",
    "encoder = LabelBinarizer()\n",
    "encoder.fit(y_train)\n",
    "y_train = encoder.transform(y_train)\n",
    "y_test = encoder.transform(y_test)\n"
   ]
  },
  {
   "cell_type": "code",
   "execution_count": null,
   "metadata": {},
   "outputs": [],
   "source": [
    "\n",
    "es_callback = keras.callbacks.EarlyStopping(monitor='val_loss', patience=3)\n",
    "model = Sequential()\n",
    "model.add(Dense(50, input_shape=(vocab_size,)))\n",
    "model.add(Activation('relu'))\n",
    "model.add(Dropout(0.3))\n",
    "model.add(Dense(30))\n",
    "model.add(Activation('relu'))\n",
    "model.add(Dropout(0.3))\n",
    "model.add(Dense(num_labels))\n",
    "model.add(Activation('softmax'))\n",
    "model.summary()\n",
    " \n",
    "model.compile(loss=FocalLoss(alpha=1),\n",
    "              optimizer='nadam',\n",
    "              metrics=['accuracy'])\n",
    " \n",
    "history = model.fit(x_train, y_train,\n",
    "                    batch_size=batch_size,\n",
    "                    epochs=30,\n",
    "                    verbose=1,validation_split=0.2,callbacks=[es_callback])\n",
    "\n",
    "\n",
    "# In[ ]:\n",
    "\n",
    "\n",
    "score = model.evaluate(x_test, y_test,\n",
    "                       batch_size=batch_size, verbose=1)\n",
    " \n",
    "print('Test accuracy:', score[1])\n",
    "\n"
   ]
  },
  {
   "cell_type": "code",
   "execution_count": null,
   "metadata": {},
   "outputs": [],
   "source": [
    "import joblib\n",
    "joblib.dump(clf_lr.best_estimator_, 'model_l3.pkl', compress=1)\n"
   ]
  },
  {
   "cell_type": "code",
   "execution_count": null,
   "metadata": {},
   "outputs": [],
   "source": [
    "# # Finals Conclusions fo Approach2\n",
    "# \n",
    "# - We first analysed the dataset provided to us, undestood the structure of the data provided - number of columns, field , datatypes etc.\n",
    "# - We did Exploratory Data Analysis to derive further insights from this data set and we found that\n",
    "#     - Data is very much imbalanced, there are around ~45% of the Groups with less than 20 tickets.\n",
    "#     - Few of the tickets are in foreign language like German\n",
    "#     - The data has lot of noise in it, for eg- few tickets related to account setup are spread across multiple assignment groups.\n",
    "#     \n",
    "# - We performed the data cleaning and preprocessing\n",
    "#     - Translation: A small number of tickets were written in German. Hence, we used the Google translate python api  to convert German to English to generate the input data for the next steps. However, the google translator rest api can only process a limited number of texts on a daily basis, so we translated the text in batches and saved the file for further processing.\n",
    "#     - Make text all lowercase so that the algorithm does not treat the same words in different cases as different\n",
    "#     - Removing Noise i.e everything that isn’t in a standard number or letter i.e Punctuation, Numerical values\n",
    "#     - Removing extract spaces\n",
    "#     - Removed punctuations\n",
    "#     - Removed words containing numbers\n",
    "#     - Stopword Removal: Sometimes, some extremely common words which would appear to be of little value in helping select documents matching a user need are excluded from the vocabulary entirely. These words are called stop words\n",
    "#     - Lemmatization\n",
    "#     - Tokenization: Tokenization is just the term used to describe the process of converting the normal text strings into a list of tokens i.e words that we actually want. Sentence tokenizer can be used to find the list of sentences and Word tokenizer can be used to find the list of words in strings.\n",
    "#     \n",
    "# \n",
    "# - We then ran a basic benchmarck model using the cleaned and preprocessed dataset\n",
    "#     - Since the dataset is very imbalanced, We considered a subset of groups for predictions.  In 74 groups, 46% of tickets belong to group 1 and 16 groups just have more than 100 tickets, rest of the Assignment groups have very less ticket counts which might not add much value to the model prediction. If we conducted random sampling towards all the subcategories, then we would face a problem that we might miss all the tickets in some categories. Hence, we considered the groups that have more than 100 tickets. \n",
    "#     - We trained the data using below models:\n",
    "#         - Multinomial NB\n",
    "#         - Linear Support vector Machine\n",
    "#         - Logistic regression\n",
    "#         - Xgboost\n",
    "#         \n",
    "# -  LinearSVC gives better performance with \n",
    "#     accuracy 0.833642\n",
    "#     f1 score 0.818053\n",
    "# \n",
    "# <b> Although, it seems like the call is biased towards GRP_0 which has a majority of samples. </b>\n",
    "# \n",
    "# \n",
    "# \n",
    "# \n",
    "# \n",
    "# - Even after downsampling the data we see that the predictions are biased towards GRP_0 which has a majority of samples.\n",
    "# - Imbalance causes two problems:\n",
    "#     - Training is inefficient as most samples are easy examples that contribute no useful learning signal;\n",
    "#     - The easy examples can overwhelm training and lead to degenerate models.\n",
    "#     A common solution is to perform some form of hard negative mining that samples hard examples during training or more complex sampling/re weighing schemes.In order to handle the imbalance problem  we used class_weight=balanced hyperparameter while training the model, which tells the model to \"pay more attention\" to samples from an under-represented class.  \n",
    "# - Although, the accuracy and f1_score went down. This ensured that the classes were being correctly classified with lesser number of missclassification and good precision/recall scores for all the classes\n",
    "# \n",
    "# - Next, we used Approach 2 where the ticket would be classified into L1/L2 or L3 classes and then it would be further classified into one of the given assignment groups. \n",
    "# \n",
    "# - We first created a model to classify the given tickets as l1/l2 or l3 ticket, we found that Linear SVC was giving a better score.\n",
    "# - Next, another model was trained considering only l1/l2 level of incidents consisting of GRP_0 and GRP_8.\n",
    "# - Finally, a third model was trained considering l3 level of tickets.\n",
    "# \n",
    "# - We also used hyperparameter tuning, to identify the best classifier with best parameters. We found that LinearSVC was performing the best among all the other classifiers.\n",
    "# - We also tried keras implementation with focal loss as a loss function to handle the class imbalance problem, which helps in giving more weightage to groups will less samples, but the results were not satifactory.\n",
    "#   \n",
    "#  - Finally, Logistic Regression gave better performance with hyperparameter tuning and this model would be used for classifying the L3 tickets into one of the groups.\n",
    "#     - accuracy 0.706260\n",
    "#     - f1 score 0.705392\n",
    "# \n",
    "# \n",
    "# The performance can be further improved by collecting more data for tickets and by running deep learning models like RNN and LSTM's."
   ]
  },
  {
   "cell_type": "code",
   "execution_count": null,
   "metadata": {},
   "outputs": [],
   "source": []
  }
 ],
 "metadata": {
  "kernelspec": {
   "display_name": "Python 3",
   "language": "python",
   "name": "python3"
  },
  "language_info": {
   "codemirror_mode": {
    "name": "ipython",
    "version": 3
   },
   "file_extension": ".py",
   "mimetype": "text/x-python",
   "name": "python",
   "nbconvert_exporter": "python",
   "pygments_lexer": "ipython3",
   "version": "3.6.10"
  }
 },
 "nbformat": 4,
 "nbformat_minor": 4
}
